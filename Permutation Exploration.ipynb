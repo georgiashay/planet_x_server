{
 "cells": [
  {
   "cell_type": "code",
   "execution_count": 7,
   "id": "hundred-employer",
   "metadata": {},
   "outputs": [],
   "source": [
    "import timeit"
   ]
  },
  {
   "cell_type": "code",
   "execution_count": 8,
   "id": "living-margin",
   "metadata": {},
   "outputs": [],
   "source": [
    "from server.board import *"
   ]
  },
  {
   "cell_type": "code",
   "execution_count": 9,
   "id": "emotional-korea",
   "metadata": {},
   "outputs": [],
   "source": [
    "def permutations(lst):\n",
    "    if len(lst) == 0:\n",
    "        return\n",
    "    elif len(lst) == 1:\n",
    "        yield lst\n",
    "    else:\n",
    "        for i in range(len(lst)):\n",
    "            rest = lst[:i] + lst[i+1:]\n",
    "            for p in permutations(rest):\n",
    "                yield [lst[i]] + p"
   ]
  },
  {
   "cell_type": "code",
   "execution_count": 10,
   "id": "vital-recognition",
   "metadata": {},
   "outputs": [],
   "source": [
    "def _permutations_multi(lst):\n",
    "    if len(lst) == 0:\n",
    "        return\n",
    "    elif len(lst) == 1:\n",
    "        yield lst\n",
    "    else:\n",
    "        for i in range(len(lst)):\n",
    "            if i == 0 or lst[i] != lst[i-1]:\n",
    "                rest = lst[:i] + lst[i+1:]\n",
    "                for p in _permutations_multi(rest):\n",
    "                    yield [lst[i]] + p"
   ]
  },
  {
   "cell_type": "code",
   "execution_count": 11,
   "id": "banned-lebanon",
   "metadata": {},
   "outputs": [],
   "source": [
    "def permutations_multi(counts):\n",
    "    lst = []\n",
    "    for val in counts:\n",
    "        for i in range(counts[val]):\n",
    "            lst.append(val)\n",
    "    yield from _permutations_multi(lst)"
   ]
  },
  {
   "cell_type": "code",
   "execution_count": 72,
   "id": "parental-donna",
   "metadata": {},
   "outputs": [],
   "source": [
    "def memo_counts(f):\n",
    "    memo = {}\n",
    "    \n",
    "    def helper(counts):\n",
    "        key = tuple(counts.items())\n",
    "        if key not in memo:\n",
    "            memo[key] = list(f(counts))\n",
    "        return memo[key]\n",
    "    \n",
    "    return helper\n",
    "\n",
    "# @memo_counts\n",
    "def permutations_multi2(counts):\n",
    "    obj_choices = False\n",
    "    for obj in counts:\n",
    "        if counts[obj] > 0:\n",
    "            obj_choices = True\n",
    "            \n",
    "            counts[obj] -= 1\n",
    "            for p in permutations_multi2(counts):\n",
    "                yield [obj] + p\n",
    "            \n",
    "            counts[obj] += 1\n",
    "            \n",
    "    if not obj_choices:\n",
    "        yield []          "
   ]
  },
  {
   "cell_type": "code",
   "execution_count": 73,
   "id": "exact-extension",
   "metadata": {},
   "outputs": [
    {
     "data": {
      "text/plain": [
       "<generator object permutations_multi2 at 0x7fdf987988d0>"
      ]
     },
     "execution_count": 73,
     "metadata": {},
     "output_type": "execute_result"
    }
   ],
   "source": [
    "permutations_multi2({\"A\": 3, \"B\": 1, \"C\": 1})"
   ]
  },
  {
   "cell_type": "code",
   "execution_count": 78,
   "id": "addressed-format",
   "metadata": {},
   "outputs": [
    {
     "data": {
      "text/plain": [
       "2.897101030000158"
      ]
     },
     "execution_count": 78,
     "metadata": {},
     "output_type": "execute_result"
    }
   ],
   "source": [
    "timeit.timeit('list(permutations_multi({\"A\": 3, \"B\": 4, \"C\": 2}))', number=1000, globals=globals())"
   ]
  },
  {
   "cell_type": "code",
   "execution_count": 79,
   "id": "worse-bernard",
   "metadata": {},
   "outputs": [
    {
     "data": {
      "text/plain": [
       "2.8607567849999214"
      ]
     },
     "execution_count": 79,
     "metadata": {},
     "output_type": "execute_result"
    }
   ],
   "source": [
    "timeit.timeit('list(permutations_multi2({\"A\": 3, \"B\": 4, \"C\": 2}))', number=1000, globals=globals())"
   ]
  },
  {
   "cell_type": "code",
   "execution_count": 69,
   "id": "mediterranean-extra",
   "metadata": {},
   "outputs": [],
   "source": [
    "from server.board import *\n",
    "from server.board_type import *"
   ]
  },
  {
   "cell_type": "code",
   "execution_count": null,
   "id": "adolescent-tractor",
   "metadata": {},
   "outputs": [],
   "source": [
    "def create_boards(board_type, filename):\n",
    "    output_file = open(filename, \"w\")\n",
    "    \n",
    "    for board_objects in permutations_multi(board_type.num_objects):\n",
    "        board = Board(board_objects)\n",
    "        if board.check_constraints(board_type.constraints):\n",
    "            output_file.write(str(board) + \"\\n\")\n",
    "            \n",
    "    output_file.close()"
   ]
  },
  {
   "cell_type": "code",
   "execution_count": null,
   "id": "collective-artist",
   "metadata": {},
   "outputs": [],
   "source": [
    "list(permutations_multi({\"A\": 4, \"B\": 3, None: 2}))"
   ]
  },
  {
   "cell_type": "code",
   "execution_count": null,
   "id": "authorized-gardening",
   "metadata": {},
   "outputs": [],
   "source": [
    "len({\"A\": 4, \"B\": 3, None: 2}.keys())"
   ]
  },
  {
   "cell_type": "code",
   "execution_count": null,
   "id": "fluid-exercise",
   "metadata": {},
   "outputs": [],
   "source": [
    "def _permutations_no_touch(lst):\n",
    "    if len(lst) == 0:\n",
    "        return\n",
    "    elif len(lst) == 1:\n",
    "        yield lst\n",
    "    else:\n",
    "        for i in range(len(lst)):\n",
    "            if i == 0 or lst[i] != lst[i-1]:\n",
    "                rest = lst[:i] + lst[i+1:]\n",
    "                for p in _permutations_no_touch(rest):\n",
    "                    if p[0] == lst[i] or p[0] is None or lst[i] is None:\n",
    "                        yield [lst[i]] + p\n",
    "\n",
    "def permutations_no_touch(counts, empty):\n",
    "    if len(counts.keys()) > empty:\n",
    "        return []\n",
    "    else:\n",
    "        lst = []\n",
    "        for val in counts:\n",
    "            for i in range(counts[val]):\n",
    "                lst.append(val)\n",
    "        for i in range(empty):\n",
    "            lst.append(None)\n",
    "        \n",
    "        for p in _permutations_no_touch(lst):\n",
    "            if p[0] == p[-1] or p[0] is None or p[-1] is None:\n",
    "                yield p"
   ]
  },
  {
   "cell_type": "code",
   "execution_count": null,
   "id": "union-jumping",
   "metadata": {},
   "outputs": [],
   "source": [
    "def sum_counts(d):\n",
    "    s = 0\n",
    "    for k in d:\n",
    "        s += d[k]\n",
    "    return s\n",
    "    \n",
    "def _fill_no_touch(lst, is_hole):\n",
    "    if len(lst) == 0:\n",
    "        if all(is_hole):\n",
    "            yield [None]*len(is_hole)\n",
    "        return\n",
    "    else:\n",
    "        if is_hole[0]:\n",
    "            for p in _fill_no_touch(lst, is_hole[1:]):\n",
    "                yield [None] + p\n",
    "        else:\n",
    "            for i in range(len(lst)):\n",
    "                if i == 0 or lst[i] != lst[i-1]:\n",
    "                    rest = lst[:i] + lst[i+1:]\n",
    "                    for p in _fill_no_touch(rest, is_hole[1:]):\n",
    "                        if len(p) == 0 or p[0] == lst[i] or p[0] is None or lst[i] is None:\n",
    "                            yield [lst[i]] + p\n",
    "\n",
    "def fill_no_touch(counts, board):\n",
    "    is_hole = [obj is not None and board[i-1] is None for i, obj in enumerate(board)]\n",
    "    is_hole_collapsed = [hole_val for i, hole_val in enumerate(is_hole) if hole_val or board[i] is None]\n",
    "    holes = sum(is_hole)\n",
    "    empty = len([obj for obj in board if obj is None]) - sum_counts(counts)\n",
    "    gaps = holes + empty\n",
    "    \n",
    "    if len(counts.keys()) > gaps:\n",
    "        return []\n",
    "    else:\n",
    "        lst = []\n",
    "        for val in counts:\n",
    "            for i in range(counts[val]):\n",
    "                lst.append(val)\n",
    "        for i in range(empty):\n",
    "            lst.append(None)\n",
    "                    \n",
    "        for p in _fill_no_touch(lst, is_hole_collapsed):\n",
    "            if p[0] == p[-1] or p[0] is None or p[-1] is None or p[0] not in counts or p[-1] not in counts:\n",
    "                board_copy = board.copy()\n",
    "                j = 0\n",
    "                for i in range(len(board_copy)):\n",
    "                    if board[i] is None:\n",
    "                        board_copy[i] = p[j]\n",
    "                        j += 1\n",
    "                    elif board[i-1] is None:\n",
    "                        j += 1\n",
    "                yield board_copy"
   ]
  },
  {
   "cell_type": "code",
   "execution_count": null,
   "id": "realistic-welding",
   "metadata": {},
   "outputs": [],
   "source": [
    "def fill_no_touch2(counts, board):\n",
    "    num_none = len([obj for obj in board if obj is None]) - sum_counts(counts)\n",
    "    perms = permutations_multi({**counts, None: num_none})\n",
    "    boards = []\n",
    "    for p in perms:\n",
    "        board_copy = board.copy()\n",
    "        j = 0\n",
    "        for i in range(len(board)):\n",
    "            if board[i] is None:\n",
    "                board_copy[i] = p[j]\n",
    "                j += 1\n",
    "        \n",
    "        if all([board_copy[i] == board_copy[i-1] or board_copy[i] not in counts or board_copy[i-1] not in counts\n",
    "               for i in range(len(board_copy))]):\n",
    "            boards.append(board_copy)\n",
    "    return boards"
   ]
  },
  {
   "cell_type": "code",
   "execution_count": null,
   "id": "united-tunnel",
   "metadata": {
    "scrolled": true
   },
   "outputs": [],
   "source": [
    "list(fill_no_touch({\"A\": 3, \"B\": 3}, [None, None, \"B\", \"D\", None, \"B\", None, None, \"E\", \"F\", None]))"
   ]
  },
  {
   "cell_type": "code",
   "execution_count": null,
   "id": "former-divide",
   "metadata": {},
   "outputs": [],
   "source": [
    "fill_no_touch2({\"A\": 2, \"B\": 3}, [None, None, \"B\", \"D\", None, None, None, \"E\", \"F\", None])"
   ]
  },
  {
   "cell_type": "code",
   "execution_count": null,
   "id": "lined-terrorism",
   "metadata": {},
   "outputs": [],
   "source": [
    "def multi_alternate(counts):\n",
    "    lst = []\n",
    "    for val in counts:\n",
    "        for i in range(counts[val]):\n",
    "            lst.append(val)\n",
    "    tpl = tuple(lst)\n",
    "    perms = itertools.permutations(tpl)\n",
    "    return set(perms)"
   ]
  },
  {
   "cell_type": "code",
   "execution_count": null,
   "id": "adolescent-insertion",
   "metadata": {},
   "outputs": [],
   "source": [
    "timeit.timeit('fill_no_touch2({\"A\": 2, \"B\": 3}, [None, None, \"A\", \"D\", None, None, None, \"E\", \"F\", None])', number=1000, globals=globals())"
   ]
  },
  {
   "cell_type": "code",
   "execution_count": null,
   "id": "organic-dinner",
   "metadata": {},
   "outputs": [],
   "source": [
    "timeit.timeit('fill_no_touch({\"A\": 2, \"B\": 3}, [None, None, \"A\", \"D\", None, None, None, \"E\", \"F\", None])', number=1000000, globals=globals())"
   ]
  },
  {
   "cell_type": "code",
   "execution_count": null,
   "id": "engaged-classics",
   "metadata": {},
   "outputs": [],
   "source": [
    "timeit.timeit(\"permutations_multi({'A': 3, 'B': 4})\", number=100000, globals=globals())"
   ]
  },
  {
   "cell_type": "code",
   "execution_count": null,
   "id": "indoor-basin",
   "metadata": {},
   "outputs": [],
   "source": [
    "timeit.timeit(\"multi_alternate({'A': 3, 'B': 4})\", number=1000, globals=globals())"
   ]
  },
  {
   "cell_type": "code",
   "execution_count": null,
   "id": "heavy-infection",
   "metadata": {},
   "outputs": [],
   "source": [
    "def _fill_no_within(prev, countdown, counts, no_within_objs, board, n, i):\n",
    "    if (i == len(board)):\n",
    "        yield []\n",
    "        return\n",
    "    \n",
    "    if board[i] != None:\n",
    "        if board[i] in no_within_objs:\n",
    "            if board[i] != prev and countdown != 0:\n",
    "                return\n",
    "            new_prev = board[i]\n",
    "            new_countdown = n\n",
    "        else:\n",
    "            new_prev = prev\n",
    "            new_countdown = countdown - 1\n",
    "            \n",
    "        for p in _fill_no_within(new_prev, new_countdown, counts, no_within_objs, board, n, i+1):\n",
    "            yield [board[i]] + p\n",
    "        return\n",
    "        \n",
    "    obj_choices = list(counts.keys())\n",
    "    for obj in obj_choices:\n",
    "        restricted_obj = obj in no_within_objs\n",
    "        if obj == prev or not restricted_obj or countdown == 0:\n",
    "            counts[obj] -= 1\n",
    "            if counts[obj] == 0:\n",
    "                del counts[obj]\n",
    "                \n",
    "            if restricted_obj:\n",
    "                new_countdown = n\n",
    "                new_prev = obj\n",
    "            else:\n",
    "                new_countdown = max(0, countdown - 1)\n",
    "                new_prev = prev\n",
    "                \n",
    "            for p in _fill_no_within(new_prev, new_countdown, counts, no_within_objs, board, n, i+1):\n",
    "                yield [obj] + p\n",
    "            \n",
    "            if obj in counts:\n",
    "                counts[obj] += 1\n",
    "            else:\n",
    "                counts[obj] = 1\n",
    "\n",
    "def fill_no_within(counts, board, n):\n",
    "    num_none = len([obj for obj in board if obj is None]) - sum_counts(counts)\n",
    "    for p in _fill_no_within(None, 0, {**counts, None: num_none}, counts.keys(), board, n, 0):\n",
    "        first_i = next(i for i, obj in enumerate(p) if obj in counts)\n",
    "        last_i = next(i for i in range(len(p) - 1, -1, -1) if p[i] in counts and p[i] != p[first_i])\n",
    "        diff = first_i + (len(p) - last_i)\n",
    "        if diff > n:\n",
    "            yield p"
   ]
  },
  {
   "cell_type": "code",
   "execution_count": null,
   "id": "structured-alcohol",
   "metadata": {},
   "outputs": [],
   "source": [
    "def fill_no_within2(counts, board, n):\n",
    "    num_none = len([obj for obj in board if obj is None]) - sum_counts(counts)\n",
    "    for p in permutations_multi({**counts, None: num_none}):\n",
    "        j = 0 \n",
    "        board_copy = board.copy()\n",
    "        for i in range(len(board)):\n",
    "            if board[i] is None:\n",
    "                board_copy[i] = p[j]\n",
    "                j += 1\n",
    "        \n",
    "        prev = None\n",
    "        countdown = 0\n",
    "        is_valid = True\n",
    "        for i in range(-n, len(board_copy)):\n",
    "            obj = board_copy[i]\n",
    "            if obj in counts:\n",
    "                if countdown != 0 and obj != prev:\n",
    "                    is_valid = False\n",
    "                    break\n",
    "                prev = obj\n",
    "                countdown = n\n",
    "            else:\n",
    "                countdown = max(0, countdown - 1)\n",
    "        \n",
    "        if is_valid:\n",
    "            yield board_copy"
   ]
  },
  {
   "cell_type": "code",
   "execution_count": null,
   "id": "killing-jacob",
   "metadata": {},
   "outputs": [],
   "source": [
    "b = [\"A\", None, None, None, None, None, None, None]"
   ]
  },
  {
   "cell_type": "code",
   "execution_count": null,
   "id": "exciting-flight",
   "metadata": {},
   "outputs": [],
   "source": [
    "list(fill_no_within({\"A\": 1, \"B\": 1}, b, 2))"
   ]
  },
  {
   "cell_type": "code",
   "execution_count": null,
   "id": "square-cornwall",
   "metadata": {},
   "outputs": [],
   "source": [
    "list(fill_no_within2({\"A\": 1, \"B\": 1}, b, 2))"
   ]
  },
  {
   "cell_type": "code",
   "execution_count": null,
   "id": "departmental-northeast",
   "metadata": {},
   "outputs": [],
   "source": [
    "timeit.timeit('list(fill_no_within2({\"A\": 1, \"B\": 1}, b, 2))', number=1000, globals=globals())"
   ]
  },
  {
   "cell_type": "code",
   "execution_count": null,
   "id": "mental-turner",
   "metadata": {},
   "outputs": [],
   "source": [
    "timeit.timeit('list(fill_no_within({\"A\": 1, \"B\": 1}, b, 2))', number=10000, globals=globals())"
   ]
  },
  {
   "cell_type": "code",
   "execution_count": null,
   "id": "sustained-evans",
   "metadata": {},
   "outputs": [],
   "source": [
    "def _fill_no_self_touch(lst, is_hole):\n",
    "    if len(lst) == 0:\n",
    "        if all(is_hole):\n",
    "            yield [None]*len(is_hole)\n",
    "        return\n",
    "    else:\n",
    "        if is_hole[0]:\n",
    "            for p in _fill_no_self_touch(lst, is_hole[1:]):\n",
    "                yield [None] + p\n",
    "        else:\n",
    "            for i in range(len(lst)):\n",
    "                if i == 0 or lst[i] != lst[i-1]:\n",
    "                    rest = lst[:i] + lst[i+1:]\n",
    "                    for p in _fill_no_self_touch(rest, is_hole[1:]):\n",
    "                        if len(p) == 0 or p[0] != lst[i] or p[0] is None or lst[i] is None:\n",
    "                            yield [lst[i]] + p\n",
    "\n",
    "def fill_no_self_touch(obj, num_obj, board):\n",
    "    is_hole = [o is not None and board[i-1] is None for i, o in enumerate(board)]\n",
    "    is_hole_collapsed = [hole_val for i, hole_val in enumerate(is_hole) if hole_val or board[i] is None]\n",
    "    holes = sum(is_hole)\n",
    "    empty = len([o for o in board if o is None]) - num_obj\n",
    "    gaps = holes + empty\n",
    "    \n",
    "    if num_obj > gaps:\n",
    "        return []\n",
    "    else:\n",
    "        lst = []\n",
    "        for i in range(num_obj):\n",
    "            lst.append(obj)\n",
    "        for i in range(empty):\n",
    "            lst.append(None)\n",
    "                    \n",
    "        for p in _fill_no_self_touch(lst, is_hole_collapsed):\n",
    "            if p[0] != p[-1] or p[0] is None or p[-1] is None or p[0] != obj or p[-1] != obj:\n",
    "                board_copy = board.copy()\n",
    "                j = 0\n",
    "                for i in range(len(board_copy)):\n",
    "                    if board[i] is None:\n",
    "                        board_copy[i] = p[j]\n",
    "                        j += 1\n",
    "                    elif board[i-1] is None:\n",
    "                        j += 1\n",
    "                yield board_copy"
   ]
  },
  {
   "cell_type": "code",
   "execution_count": null,
   "id": "popular-turkey",
   "metadata": {},
   "outputs": [],
   "source": [
    "def _fill_no_self_touch(prev, holes, obj, num_obj, num_none, t=0):\n",
    "    if num_obj == 0 and num_none == 0:\n",
    "        if all(holes):\n",
    "            if len(holes) == 0 or \\\n",
    "            (holes[0][0] != prev or holes[0][0] != obj or prev != obj):\n",
    "                yield [None]*len(holes)\n",
    "        return\n",
    "    else:\n",
    "        if holes[0] and (holes[0][0] != prev or holes[0][0] != obj or prev != obj):\n",
    "            for p in _fill_no_self_touch(holes[0][-1], holes[1:], obj, num_obj, num_none, t+1):\n",
    "                yield [None] + p\n",
    "        else:\n",
    "            if num_obj > 0 and obj != prev:\n",
    "                for p in _fill_no_self_touch(obj, holes[1:], obj, num_obj - 1, num_none, t+1):\n",
    "                    yield [obj] + p\n",
    "            if num_none > 0:\n",
    "                for p in _fill_no_self_touch(None, holes[1:], obj, num_obj, num_none - 1, t+1):\n",
    "                    yield [None] + p\n",
    "\n",
    "def fill_no_self_touch(obj, num_obj, board):\n",
    "    holes = []\n",
    "    in_hole = False\n",
    "    for o in board:\n",
    "        if o is None:\n",
    "            holes.append(False)\n",
    "            in_hole = False\n",
    "        elif in_hole:\n",
    "            holes[-1] += (o,)\n",
    "        else:\n",
    "            in_hole = True\n",
    "            holes.append((o,))\n",
    "                        \n",
    "    num_holes = len([val for val in holes if val != False])\n",
    "    empty = len([o for o in board if o is None]) - num_obj\n",
    "    gaps = num_holes + empty\n",
    "    \n",
    "    if num_obj > gaps:\n",
    "        return []\n",
    "    else:                     \n",
    "        for p in _fill_no_self_touch(None, holes, obj, num_obj, empty):\n",
    "            if p[0] != p[-1] or p[0] != obj or p[-1] != obj:\n",
    "                if holes[-1] == False or holes[0] != False or p[0] != holes[-1][-1] \\\n",
    "                or p[0] != obj or holes[-1][-1] != obj:\n",
    "                    board_copy = board.copy()\n",
    "                    j = 0\n",
    "                    for i in range(len(board_copy)):\n",
    "                        if board[i] is None:\n",
    "                            board_copy[i] = p[j]\n",
    "                            j += 1\n",
    "                        elif board[i-1] is None:\n",
    "                            j += 1\n",
    "                    yield board_copy"
   ]
  },
  {
   "cell_type": "code",
   "execution_count": null,
   "id": "editorial-situation",
   "metadata": {},
   "outputs": [],
   "source": [
    "b = Board([None, None, None, None, None, \"A\", \"B\"])"
   ]
  },
  {
   "cell_type": "code",
   "execution_count": null,
   "id": "sunset-bulletin",
   "metadata": {},
   "outputs": [],
   "source": [
    "list(fill_no_self_touch(\"A\", 2, b))"
   ]
  },
  {
   "cell_type": "code",
   "execution_count": null,
   "id": "rotary-digest",
   "metadata": {},
   "outputs": [],
   "source": [
    "timeit.timeit(\"list(fill_no_self_touch('A', 2, b))\", number=1000, globals=globals())"
   ]
  },
  {
   "cell_type": "code",
   "execution_count": null,
   "id": "empty-coordinate",
   "metadata": {},
   "outputs": [],
   "source": [
    "def sum_counts(d):\n",
    "    s = 0\n",
    "    for k in d:\n",
    "        s += d[k]\n",
    "    return s\n",
    "    \n",
    "def _fill_no_touch(prev, counts, holes, no_touch_objs, t=0):\n",
    "    if len(counts.keys()) == 0:\n",
    "        if all(holes):\n",
    "            if len(holes) == 0 or \\\n",
    "            (holes[0][0] == prev or holes[0][0] not in no_touch_objs or prev not in no_touch_objs):\n",
    "                yield [None]*len(holes)\n",
    "        return\n",
    "    else:\n",
    "        if holes[0] and (holes[0][0] == prev or holes[0][0] not in no_touch_objs or prev not in no_touch_objs):\n",
    "            for p in _fill_no_touch(holes[0][-1], counts, holes[1:], no_touch_objs, t+1):\n",
    "                yield [None] + p\n",
    "        else:\n",
    "            first_objs = list(counts.keys())\n",
    "            for obj in first_objs:\n",
    "                if obj == prev or prev not in no_touch_objs or obj not in no_touch_objs:\n",
    "                    counts[obj] -= 1\n",
    "                    if counts[obj] == 0:\n",
    "                        del counts[obj]\n",
    "                \n",
    "                    for p in _fill_no_touch(obj, counts, holes[1:], no_touch_objs, t+1):\n",
    "                        yield [obj] + p\n",
    "            \n",
    "                    if obj in counts:\n",
    "                        counts[obj] += 1\n",
    "                    else:\n",
    "                        counts[obj] = 1\n",
    "\n",
    "def fill_no_touch(counts, board):\n",
    "    holes = []\n",
    "    in_hole = False\n",
    "    for obj in board:\n",
    "        if obj is None:\n",
    "            holes.append(False)\n",
    "            in_hole = False\n",
    "        elif in_hole:\n",
    "            holes[-1] += (obj,)\n",
    "        else:\n",
    "            in_hole = True\n",
    "            holes.append((obj,))\n",
    "                        \n",
    "    num_holes = len([val for val in holes if val != False])\n",
    "    empty = len([obj for obj in board if obj is None]) - sum_counts(counts)\n",
    "    gaps = num_holes + empty\n",
    "    \n",
    "    if len(counts.keys()) > gaps:\n",
    "        return []\n",
    "    else:                     \n",
    "        put_counts = counts.copy()\n",
    "        if empty > 0:\n",
    "            put_counts[None] = empty\n",
    "        for obj in list(put_counts.keys()):\n",
    "            if put_counts[obj] == 0:\n",
    "                del put_counts[obj]\n",
    "        for p in _fill_no_touch(None, put_counts, holes, counts.keys()):\n",
    "            first_val = p[0] if holes[0] == False else holes[0][0]\n",
    "            last_val = p[-1] if holes[-1] == False else holes[-1][-1]\n",
    "\n",
    "            if first_val == last_val or first_val not in counts or last_val not in counts:\n",
    "                board_copy = board.copy()\n",
    "                j = 0\n",
    "                for i in range(len(board_copy)):\n",
    "                    if board[i] is None:\n",
    "                        board_copy[i] = p[j]\n",
    "                        j += 1\n",
    "                    elif board[i-1] is None or i == 0:\n",
    "                        j += 1\n",
    "                yield board_copy"
   ]
  },
  {
   "cell_type": "code",
   "execution_count": null,
   "id": "alleged-cowboy",
   "metadata": {},
   "outputs": [],
   "source": [
    "#    The Countdown QuickPerm Algorithm:\n",
    "\n",
    "#    let a[] represent an arbitrary list of objects to permute\n",
    "#    let N equal the length of a[]\n",
    "#    create an integer array p[] of size N+1 to control the iteration     \n",
    "#    initialize p[0] to 0, p[1] to 1, p[2] to 2, ..., p[N] to N\n",
    "#    initialize index variable i to 1\n",
    "#    while (i < N) do {\n",
    "#       decrement p[i] by 1\n",
    "#       if i is odd, then let j = p[i] otherwise let j = 0\n",
    "#       swap(a[j], a[i])\n",
    "#       let i = 1\n",
    "#       while (p[i] is equal to 0) do {\n",
    "#          let p[i] = i\n",
    "#          increment i by 1\n",
    "#       } // end while (p[i] is equal to 0)\n",
    "#    } // end while (i < N)"
   ]
  },
  {
   "cell_type": "code",
   "execution_count": null,
   "id": "enormous-tolerance",
   "metadata": {},
   "outputs": [],
   "source": [
    "def perms(a):\n",
    "    b = a.copy()\n",
    "    N = len(b)\n",
    "    p = list(range(N+1))\n",
    "    i = 1\n",
    "    while i < N:\n",
    "#         print(i, j, p, b)\n",
    "        yield b.copy()\n",
    "        p[i] -= 1\n",
    "        if i % 2 == 1:\n",
    "            j = p[i]\n",
    "        else:\n",
    "            j = 0\n",
    "        b[i], b[j] = b[j], b[i]\n",
    "        i = 1\n",
    "        while p[i] == 0:\n",
    "            p[i] = i\n",
    "            i += 1\n",
    "    yield b.copy()"
   ]
  },
  {
   "cell_type": "code",
   "execution_count": null,
   "id": "several-boring",
   "metadata": {},
   "outputs": [],
   "source": [
    "def fill_no_touch3(obj1, obj2, num_obj1, num_obj2, board):\n",
    "    indices = [i for i, obj in enumerate(board) if obj is None]\n",
    "    perm = board.copy()\n",
    "    num_none = len(indices) - num_obj1 - num_obj2\n",
    "    vals = [obj1] * num_obj1 + [obj2] * num_obj2 + [None] * num_none\n",
    "    j = 0\n",
    "    for i, obj in enumerate(perm):\n",
    "        if obj is None:\n",
    "            perm[i] = vals[j]\n",
    "            j += 1\n",
    "            \n",
    "    B = len(board)\n",
    "    obj_set = {obj1, obj2}\n",
    "    invalid = {i for i in range(len(perm)) if {perm[i], perm[i-1]} == obj_set or \\\n",
    "                      {perm[i], perm[i+1]} == obj_set}\n",
    "    \n",
    "    N = len(indices)\n",
    "    p = list(range(N+1))\n",
    "    i = 1\n",
    "        \n",
    "    while i < N:\n",
    "        if len(invalid) == 0:\n",
    "            yield perm.copy()\n",
    "        p[i] -= 1\n",
    "        if i % 2 == 1:\n",
    "            j = p[i]\n",
    "        else:\n",
    "            j = 0\n",
    "            \n",
    "        perm[indices[i]], perm[indices[j]] = perm[indices[j]], perm[indices[i]]\n",
    "\n",
    "        if perm[indices[i]] != perm[indices[j]]:\n",
    "            good = set()\n",
    "            bad = set()\n",
    "            for k in {indices[i], indices[j]}:\n",
    "                if {perm[k], perm[k-1]} != obj_set:\n",
    "                    good.add(k)\n",
    "                    if {perm[k-1], perm[k-2]} != obj_set:\n",
    "                        good.add((k-1)%B)\n",
    "                else:\n",
    "                    bad.add(k)\n",
    "                    bad.add((k-1)%B)\n",
    "                if {perm[k], perm[k+1]} != obj_set:\n",
    "                    good.add(k)\n",
    "                    if {perm[k+1], perm[k+2]} != obj_set:\n",
    "                        good.add((k+1)%B)\n",
    "                else:\n",
    "                    bad.add(k)\n",
    "                    bad.add((k+1)%B)\n",
    "\n",
    "            invalid -= good\n",
    "            invalid |= bad\n",
    "            \n",
    "        i = 1\n",
    "        while p[i] == 0:\n",
    "            p[i] = i\n",
    "            i += 1\n",
    "     \n",
    "    if len(invalid) == 0:\n",
    "        yield perm.copy()"
   ]
  },
  {
   "cell_type": "code",
   "execution_count": null,
   "id": "parental-thanksgiving",
   "metadata": {},
   "outputs": [],
   "source": [
    "def fill_no_touch4(obj1, obj2, num_obj1, num_obj2, board):\n",
    "    indices = [i for i, obj in enumerate(board) if obj is None]\n",
    "    perm = board.copy()\n",
    "    num_none = len(indices) - num_obj1 - num_obj2\n",
    "    vals = [obj1] * num_obj1 + [obj2] * num_obj2 + [None] * num_none\n",
    "    j = 0\n",
    "    for i, obj in enumerate(perm):\n",
    "        if obj is None:\n",
    "            perm[i] = vals[j]\n",
    "            j += 1\n",
    "      \n",
    "    B = len(board)\n",
    "    obj_set = {obj1, obj2}\n",
    "    def check_board(b):\n",
    "        return not any({b[i], b[i-1]} == obj_set or {b[i], b[i+1]} == obj_set for i in range(len(b)))\n",
    "            \n",
    "    N = len(indices)\n",
    "    p = list(range(N+1))\n",
    "    i = 1   \n",
    "    while i < N:\n",
    "        if check_board(perm):\n",
    "            yield perm.copy()\n",
    "        p[i] -= 1\n",
    "        if i % 2 == 1:\n",
    "            j = p[i]\n",
    "        else:\n",
    "            j = 0\n",
    "            \n",
    "        perm[indices[i]], perm[indices[j]] = perm[indices[j]], perm[indices[i]]\n",
    "\n",
    "        i = 1\n",
    "        while p[i] == 0:\n",
    "            p[i] = i\n",
    "            i += 1\n",
    "     \n",
    "    if check_board(perm):\n",
    "        yield perm.copy()"
   ]
  },
  {
   "cell_type": "code",
   "execution_count": null,
   "id": "changing-envelope",
   "metadata": {},
   "outputs": [],
   "source": [
    "b = Board([\"A\", \"C\", \"C\", \"C\", \"C\", None, None, \"C\", \"C\", None, None, \"C\", \"B\", None])"
   ]
  },
  {
   "cell_type": "code",
   "execution_count": null,
   "id": "deadly-depression",
   "metadata": {},
   "outputs": [],
   "source": [
    "list(set(fill_no_touch4(\"A\", \"B\", 2, 2, b)))"
   ]
  },
  {
   "cell_type": "code",
   "execution_count": null,
   "id": "chronic-theta",
   "metadata": {},
   "outputs": [],
   "source": [
    "list(set(fill_no_touch3(\"A\", \"B\", 2, 2, b)))"
   ]
  },
  {
   "cell_type": "code",
   "execution_count": null,
   "id": "comic-fleece",
   "metadata": {},
   "outputs": [],
   "source": [
    "list(fill_no_touch({\"A\": 2, \"B\": 2}, b))"
   ]
  },
  {
   "cell_type": "code",
   "execution_count": null,
   "id": "intended-sunday",
   "metadata": {},
   "outputs": [],
   "source": [
    "def one_thing1(b, obj1, obj2):\n",
    "    for i in range(len(b)):\n",
    "        if b[i] is None and b[i-1] != obj1 and b[i+1] != obj2:\n",
    "            bc = b.copy()\n",
    "            bc[i] = obj1\n",
    "            yield bc"
   ]
  },
  {
   "cell_type": "code",
   "execution_count": null,
   "id": "requested-luxury",
   "metadata": {},
   "outputs": [],
   "source": [
    "def add_one_no_touch(obj1, obj2, num_obj1, board, start_i=0):\n",
    "    if num_obj1 == 0:\n",
    "        yield board\n",
    "        return \n",
    "    \n",
    "    for i in range(start_i, len(board)):\n",
    "        if board[i] is None and board[i-1] != obj2 and board[i+1] != obj2:\n",
    "            board_copy = board.copy()\n",
    "            board_copy[i] = obj1\n",
    "            yield from one_thing(obj1, obj2, num_obj1 - 1, board_copy, i+1)\n",
    "\n",
    "def add_two_no_touch(obj1, obj2, num_obj1, num_obj2, board):\n",
    "    with_obj1 = one_thing(obj1, obj2, num_obj1, board)\n",
    "    for b in with_obj1:\n",
    "        yield from one_thing(obj2, obj1, num_obj2, b)"
   ]
  },
  {
   "cell_type": "code",
   "execution_count": null,
   "id": "established-europe",
   "metadata": {},
   "outputs": [],
   "source": [
    "def _fill_no_self_touch(prev, holes, obj, num_obj, num_none, t=0):\n",
    "    if num_obj == 0 and num_none == 0:\n",
    "        if all(holes):\n",
    "            if len(holes) == 0 or \\\n",
    "            (holes[0][0] != prev or holes[0][0] != obj or prev != obj):\n",
    "                yield [None]*len(holes)\n",
    "        return\n",
    "    else:\n",
    "        if holes[0] and (holes[0][0] != prev or holes[0][0] != obj or prev != obj):\n",
    "            for p in _fill_no_self_touch(holes[0][-1], holes[1:], obj, num_obj, num_none, t+1):\n",
    "                yield [None] + p\n",
    "        else:\n",
    "            if num_obj > 0 and obj != prev:\n",
    "                for p in _fill_no_self_touch(obj, holes[1:], obj, num_obj - 1, num_none, t+1):\n",
    "                    yield [obj] + p\n",
    "            if num_none > 0:\n",
    "                for p in _fill_no_self_touch(None, holes[1:], obj, num_obj, num_none - 1, t+1):\n",
    "                    yield [None] + p\n",
    "\n",
    "def fill_no_self_touch(obj, num_obj, board):\n",
    "    holes = []\n",
    "    in_hole = False\n",
    "    for o in board:\n",
    "        if o is None:\n",
    "            holes.append(False)\n",
    "            in_hole = False\n",
    "        elif in_hole:\n",
    "            holes[-1] += (o,)\n",
    "        else:\n",
    "            in_hole = True\n",
    "            holes.append((o,))\n",
    "                        \n",
    "    num_holes = len([val for val in holes if val != False])\n",
    "    empty = len([o for o in board if o is None]) - num_obj\n",
    "    gaps = num_holes + empty\n",
    "    \n",
    "    if num_obj > gaps:\n",
    "        return []\n",
    "    else:                     \n",
    "        for p in _fill_no_self_touch(None, holes, obj, num_obj, empty):\n",
    "            first_val = p[0] if holes[0] == False else holes[0][0]\n",
    "            last_val = p[-1] if holes[-1] == False else holes[-1][-1]\n",
    "\n",
    "            if first_val != obj or last_val != obj:\n",
    "                board_copy = board.copy()\n",
    "                j = 0\n",
    "                for i in range(len(board_copy)):\n",
    "                    if board[i] is None:\n",
    "                        board_copy[i] = p[j]\n",
    "                        j += 1\n",
    "                    elif board[i-1] is None:\n",
    "                        j += 1\n",
    "                yield board_copy"
   ]
  },
  {
   "cell_type": "code",
   "execution_count": null,
   "id": "geological-single",
   "metadata": {},
   "outputs": [],
   "source": [
    "def add_one_no_self_touch(obj, num_obj, board, start_i=0):\n",
    "    if num_obj == 0:\n",
    "        yield board\n",
    "        return \n",
    "    \n",
    "    for i in range(start_i, len(board)):\n",
    "        if board[i] is None and board[i-1] != obj and board[i+1] != obj:\n",
    "            board_copy = board.copy()\n",
    "            board_copy[i] = obj\n",
    "            yield from add_one_no_self_touch(obj, num_obj - 1, board_copy, i+2)"
   ]
  },
  {
   "cell_type": "code",
   "execution_count": null,
   "id": "concrete-boulder",
   "metadata": {},
   "outputs": [],
   "source": [
    "list(fill_no_self_touch(\"A\", 2, b))"
   ]
  },
  {
   "cell_type": "code",
   "execution_count": null,
   "id": "spectacular-communications",
   "metadata": {},
   "outputs": [],
   "source": [
    "list(add_one_no_self_touch(\"A\", 2, b))"
   ]
  },
  {
   "cell_type": "code",
   "execution_count": null,
   "id": "female-resistance",
   "metadata": {},
   "outputs": [],
   "source": [
    "timeit.timeit('list(fill_no_self_touch(\"A\", 2, b))', number=10000, globals=globals())"
   ]
  },
  {
   "cell_type": "code",
   "execution_count": null,
   "id": "connected-charity",
   "metadata": {},
   "outputs": [],
   "source": [
    "timeit.timeit('list(add_one_no_self_touch(\"A\", 2, b))', number=10000, globals=globals())"
   ]
  },
  {
   "cell_type": "code",
   "execution_count": null,
   "id": "union-block",
   "metadata": {},
   "outputs": [],
   "source": [
    "list(add_two_no_touch(\"A\", \"B\", 2, 2, b))"
   ]
  },
  {
   "cell_type": "code",
   "execution_count": null,
   "id": "interesting-athletics",
   "metadata": {},
   "outputs": [],
   "source": [
    "timeit.timeit('list(add_two_no_touch(\"A\", \"B\", 1, 0, b))', number=10000, globals=globals())"
   ]
  },
  {
   "cell_type": "code",
   "execution_count": null,
   "id": "daily-granny",
   "metadata": {},
   "outputs": [],
   "source": [
    "timeit.timeit('list(one_thing1(b, \"A\", \"B\"))', number=10000, globals=globals())"
   ]
  },
  {
   "cell_type": "code",
   "execution_count": null,
   "id": "innovative-arthur",
   "metadata": {},
   "outputs": [],
   "source": [
    "timeit.timeit('list(fill_no_touch({\"A\": 2, \"B\": 2}, b))', number=1000, globals=globals())"
   ]
  },
  {
   "cell_type": "code",
   "execution_count": null,
   "id": "configured-briefing",
   "metadata": {},
   "outputs": [],
   "source": [
    "timeit.timeit('list(fill_no_touch2({\"A\": 2, \"B\": 2}, b))', number=1000, globals=globals())"
   ]
  },
  {
   "cell_type": "code",
   "execution_count": null,
   "id": "immediate-bargain",
   "metadata": {},
   "outputs": [],
   "source": [
    "timeit.timeit('set(fill_no_touch3(\"A\",\"B\",2,2,b))', number=100, globals=globals())"
   ]
  },
  {
   "cell_type": "code",
   "execution_count": null,
   "id": "aquatic-premium",
   "metadata": {},
   "outputs": [],
   "source": [
    "timeit.timeit('set(fill_no_touch4(\"A\",\"B\",2,2,b))', number=100, globals=globals())"
   ]
  },
  {
   "cell_type": "code",
   "execution_count": null,
   "id": "embedded-ground",
   "metadata": {},
   "outputs": [],
   "source": [
    "def _fill_no_within(prev, countdown, counts, no_within_objs, board, n, i):\n",
    "    if (i == len(board)):\n",
    "        yield []\n",
    "        return\n",
    "    \n",
    "    if board[i] != None:\n",
    "        if board[i] in no_within_objs:\n",
    "            if board[i] != prev and countdown != 0:\n",
    "                return\n",
    "            new_prev = board[i]\n",
    "            new_countdown = n\n",
    "        else:\n",
    "            new_prev = prev\n",
    "            new_countdown = countdown - 1\n",
    "            \n",
    "        for p in _fill_no_within(new_prev, new_countdown, counts, no_within_objs, board, n, i+1):\n",
    "            yield [board[i]] + p\n",
    "        return\n",
    "        \n",
    "    obj_choices = list(counts.keys())\n",
    "    for obj in obj_choices:\n",
    "        restricted_obj = obj in no_within_objs\n",
    "        if obj == prev or not restricted_obj or countdown == 0:\n",
    "            counts[obj] -= 1\n",
    "            if counts[obj] == 0:\n",
    "                del counts[obj]\n",
    "                \n",
    "            if restricted_obj:\n",
    "                new_countdown = n\n",
    "                new_prev = obj\n",
    "            else:\n",
    "                new_countdown = max(0, countdown - 1)\n",
    "                new_prev = prev\n",
    "                \n",
    "            for p in _fill_no_within(new_prev, new_countdown, counts, no_within_objs, board, n, i+1):\n",
    "                yield [obj] + p\n",
    "            \n",
    "            if obj in counts:\n",
    "                counts[obj] += 1\n",
    "            else:\n",
    "                counts[obj] = 1\n",
    "\n",
    "def fill_no_within(counts, board, n):\n",
    "    num_none = len([obj for obj in board if obj is None]) - sum_counts(counts)\n",
    "    for p in _fill_no_within(None, 0, {**counts, None: num_none}, counts.keys(), board, n, 0):\n",
    "        first_i = next(i for i, obj in enumerate(p) if obj in counts)\n",
    "        last_i = next(i for i in range(len(p) - 1, -1, -1) if p[i] in counts and p[i] != p[first_i])\n",
    "        diff = first_i + (len(p) - last_i)\n",
    "        if diff > n:\n",
    "            yield p"
   ]
  },
  {
   "cell_type": "code",
   "execution_count": null,
   "id": "weighted-amateur",
   "metadata": {},
   "outputs": [],
   "source": [
    "def fill_one_no_within(obj1, obj2, num_obj1, board, n):\n",
    "    i = 0\n",
    "    while i < len(board):\n",
    "        \n",
    "        \n",
    "\n",
    "def fill_no_within2(obj1, obj2, num_obj1, num_obj2, board, n):\n",
    "    "
   ]
  },
  {
   "cell_type": "code",
   "execution_count": null,
   "id": "russian-musician",
   "metadata": {},
   "outputs": [],
   "source": [
    "def _fill_no_within(prev, countdown, obj1, obj2, num_obj1, num_obj2, board, n, i):\n",
    "    if (i == len(board)):\n",
    "        yield []\n",
    "        return\n",
    "    \n",
    "    if board[i] != None:\n",
    "        if board[i] == obj1 or board[i] == obj2:\n",
    "            if board[i] != prev and countdown != 0:\n",
    "                return\n",
    "            new_prev = board[i]\n",
    "            new_countdown = n\n",
    "        else:\n",
    "            new_prev = prev\n",
    "            new_countdown = countdown - 1\n",
    "            \n",
    "        for p in _fill_no_within(new_prev, new_countdown, obj1, obj2, num_obj1, num_obj2, board, n, i+1):\n",
    "            yield [board[i]] + p\n",
    "        return\n",
    "        \n",
    "    obj_choices = list(counts.keys())\n",
    "    for obj in obj_choices:\n",
    "        restricted_obj = obj in no_within_objs\n",
    "        if obj == prev or not restricted_obj or countdown == 0:\n",
    "            counts[obj] -= 1\n",
    "            if counts[obj] == 0:\n",
    "                del counts[obj]\n",
    "                \n",
    "            if restricted_obj:\n",
    "                new_countdown = n\n",
    "                new_prev = obj\n",
    "            else:\n",
    "                new_countdown = max(0, countdown - 1)\n",
    "                new_prev = prev\n",
    "                \n",
    "            for p in _fill_no_within(new_prev, new_countdown, counts, no_within_objs, board, n, i+1):\n",
    "                yield [obj] + p\n",
    "            \n",
    "            if obj in counts:\n",
    "                counts[obj] += 1\n",
    "            else:\n",
    "                counts[obj] = 1\n",
    "\n",
    "def fill_no_within(counts, board, n):\n",
    "    num_none = len([obj for obj in board if obj is None]) - sum_counts(counts)\n",
    "    for p in _fill_no_within(None, 0, {**counts, None: num_none}, counts.keys(), board, n, 0):\n",
    "        first_i = next(i for i, obj in enumerate(p) if obj in counts)\n",
    "        last_i = next(i for i in range(len(p) - 1, -1, -1) if p[i] in counts and p[i] != p[first_i])\n",
    "        diff = first_i + (len(p) - last_i)\n",
    "        if diff > n:\n",
    "            yield p"
   ]
  }
 ],
 "metadata": {
  "kernelspec": {
   "display_name": "Python 3",
   "language": "python",
   "name": "python3"
  },
  "language_info": {
   "codemirror_mode": {
    "name": "ipython",
    "version": 3
   },
   "file_extension": ".py",
   "mimetype": "text/x-python",
   "name": "python",
   "nbconvert_exporter": "python",
   "pygments_lexer": "ipython3",
   "version": "3.7.4"
  }
 },
 "nbformat": 4,
 "nbformat_minor": 5
}
