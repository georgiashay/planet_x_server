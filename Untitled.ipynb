{
 "cells": [
  {
   "cell_type": "code",
   "execution_count": 1,
   "id": "4617db1f",
   "metadata": {},
   "outputs": [],
   "source": [
    "from planetx_game.game import *"
   ]
  },
  {
   "cell_type": "code",
   "execution_count": 2,
   "id": "583eebe4",
   "metadata": {},
   "outputs": [],
   "source": [
    "board = Board.parse(\"DCCAAAAEGXEG\")"
   ]
  },
  {
   "cell_type": "code",
   "execution_count": 6,
   "id": "92f00c75",
   "metadata": {},
   "outputs": [
    {
     "data": {
      "text/plain": [
       "1.0"
      ]
     },
     "execution_count": 6,
     "metadata": {},
     "output_type": "execute_result"
    }
   ],
   "source": [
    "AdjacentSelfRule(SpaceObject.Comet, RuleQualifier.EVERY).strength(board, sector_types[12].constraints)"
   ]
  },
  {
   "cell_type": "code",
   "execution_count": 4,
   "id": "5875a22f",
   "metadata": {
    "scrolled": true
   },
   "outputs": [
    {
     "data": {
      "text/plain": [
       "0.9056603773584906"
      ]
     },
     "execution_count": 4,
     "metadata": {},
     "output_type": "execute_result"
    }
   ],
   "source": [
    "OppositeSelfRule(SpaceObject.Asteroid, RuleQualifier.EVERY).strength(board, sector_types[12].constraints)"
   ]
  },
  {
   "cell_type": "code",
   "execution_count": null,
   "id": "9e75bbb5",
   "metadata": {},
   "outputs": [],
   "source": [
    "OppositeSelfRule(SpaceObject.Asteroid, RuleQualifier.NONE).approx_strength(board)"
   ]
  },
  {
   "cell_type": "code",
   "execution_count": null,
   "id": "1299556e",
   "metadata": {},
   "outputs": [],
   "source": [
    "CometRule(12).approx_strength(board)"
   ]
  },
  {
   "cell_type": "code",
   "execution_count": null,
   "id": "663263a0",
   "metadata": {},
   "outputs": [],
   "source": []
  }
 ],
 "metadata": {
  "kernelspec": {
   "display_name": "Python 3",
   "language": "python",
   "name": "python3"
  },
  "language_info": {
   "codemirror_mode": {
    "name": "ipython",
    "version": 3
   },
   "file_extension": ".py",
   "mimetype": "text/x-python",
   "name": "python",
   "nbconvert_exporter": "python",
   "pygments_lexer": "ipython3",
   "version": "3.8.8"
  }
 },
 "nbformat": 4,
 "nbformat_minor": 5
}
