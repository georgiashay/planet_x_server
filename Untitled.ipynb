{
 "cells": [
  {
   "cell_type": "code",
   "execution_count": 1,
   "id": "d2d69c39",
   "metadata": {},
   "outputs": [],
   "source": [
    "from planetx_game.game import *"
   ]
  },
  {
   "cell_type": "code",
   "execution_count": 2,
   "id": "c9db0d3f",
   "metadata": {},
   "outputs": [],
   "source": [
    "board = Board.parse(\"DCCAAAAEGXEG\")"
   ]
  },
  {
   "cell_type": "code",
   "execution_count": 3,
   "id": "afce6c96",
   "metadata": {
    "scrolled": true
   },
   "outputs": [
    {
     "data": {
      "text/plain": [
       "0.2125506072874494"
      ]
     },
     "execution_count": 3,
     "metadata": {},
     "output_type": "execute_result"
    }
   ],
   "source": [
    "AdjacentSelfRule(SpaceObject.Asteroid, RuleQualifier.AT_LEAST_ONE).strength(board)"
   ]
  },
  {
   "cell_type": "code",
   "execution_count": 6,
   "id": "f0ede10f",
   "metadata": {},
   "outputs": [
    {
     "data": {
      "text/plain": [
       "0.5161943319838057"
      ]
     },
     "execution_count": 6,
     "metadata": {},
     "output_type": "execute_result"
    }
   ],
   "source": [
    "OppositeSelfRule(SpaceObject.Asteroid, RuleQualifier.NONE).strength(board)"
   ]
  },
  {
   "cell_type": "code",
   "execution_count": null,
   "id": "c3914f45",
   "metadata": {},
   "outputs": [],
   "source": []
  }
 ],
 "metadata": {
  "kernelspec": {
   "display_name": "Python 3",
   "language": "python",
   "name": "python3"
  },
  "language_info": {
   "codemirror_mode": {
    "name": "ipython",
    "version": 3
   },
   "file_extension": ".py",
   "mimetype": "text/x-python",
   "name": "python",
   "nbconvert_exporter": "python",
   "pygments_lexer": "ipython3",
   "version": "3.8.8"
  }
 },
 "nbformat": 4,
 "nbformat_minor": 5
}
