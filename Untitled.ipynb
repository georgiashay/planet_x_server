{
 "cells": [
  {
   "cell_type": "code",
   "execution_count": 1,
   "id": "7e1e9675",
   "metadata": {},
   "outputs": [],
   "source": [
    "from planetx_game.game import *"
   ]
  },
  {
   "cell_type": "code",
   "execution_count": 2,
   "id": "fa70c3dc",
   "metadata": {},
   "outputs": [],
   "source": [
    "board = Board.parse(\"AECDAADDDEEEGXEGCA\")"
   ]
  },
  {
   "cell_type": "code",
   "execution_count": 3,
   "id": "2bc8fd41",
   "metadata": {},
   "outputs": [],
   "source": [
    "rule1 = WithinRule(SpaceObject.PlanetX, SpaceObject.Empty, RuleQualifier.EVERY, 2)\n",
    "rule2 = WithinRule(SpaceObject.PlanetX, SpaceObject.Asteroid, RuleQualifier.EVERY, 4)"
   ]
  },
  {
   "cell_type": "code",
   "execution_count": null,
   "id": "1eb0924c",
   "metadata": {},
   "outputs": [],
   "source": [
    "# edata1 = EliminationData(SpaceObject.Empty, 2, 2, {1, 10})\n",
    "# def __init__(self, space_object, minimum, goal, need_eliminated, already_eliminated):"
   ]
  },
  {
   "cell_type": "code",
   "execution_count": 4,
   "id": "418b8d57",
   "metadata": {},
   "outputs": [
    {
     "name": "stdout",
     "output_type": "stream",
     "text": [
      "{1, 10, 11}\n"
     ]
    },
    {
     "data": {
      "text/plain": [
       "<planetx_game.game.Conference at 0x7ff71000b5b0>"
      ]
     },
     "execution_count": 4,
     "metadata": {},
     "output_type": "execute_result"
    }
   ],
   "source": [
    "# Expecting { 1, 9, 10, 11 }\n",
    "Conference.generate_conference(board, sector_types[18].constraints, 2)"
   ]
  },
  {
   "cell_type": "code",
   "execution_count": 16,
   "id": "2922c9b5",
   "metadata": {},
   "outputs": [
    {
     "ename": "TypeError",
     "evalue": "eliminate_sectors() missing 5 required positional arguments: 'board', 'constraints', 'data', 'space_object1', and 'space_object2'",
     "output_type": "error",
     "traceback": [
      "\u001b[0;31m---------------------------------------------------------------------------\u001b[0m",
      "\u001b[0;31mTypeError\u001b[0m                                 Traceback (most recent call last)",
      "\u001b[0;32m<ipython-input-16-179a8a06dbd4>\u001b[0m in \u001b[0;36m<module>\u001b[0;34m\u001b[0m\n\u001b[0;32m----> 1\u001b[0;31m \u001b[0mWithinRule\u001b[0m\u001b[0;34m.\u001b[0m\u001b[0meliminate_sectors\u001b[0m\u001b[0;34m(\u001b[0m\u001b[0;34m)\u001b[0m\u001b[0;34m\u001b[0m\u001b[0;34m\u001b[0m\u001b[0m\n\u001b[0m",
      "\u001b[0;31mTypeError\u001b[0m: eliminate_sectors() missing 5 required positional arguments: 'board', 'constraints', 'data', 'space_object1', and 'space_object2'"
     ]
    }
   ],
   "source": [
    "WithinRule.eliminate_sectors()"
   ]
  },
  {
   "cell_type": "code",
   "execution_count": 2,
   "id": "56703b36",
   "metadata": {},
   "outputs": [],
   "source": [
    "board = Board.parse(\"DCCAAAAEGXEG\")"
   ]
  },
  {
   "cell_type": "code",
   "execution_count": 3,
   "id": "722429ad",
   "metadata": {},
   "outputs": [],
   "source": [
    "board = Board.parse(\"GCCBCAAAAAADDDGEDGEEEEXE\")\n",
    "board = Board.parse(\"XCBAAACEGDEDEDDEEGCGEAAA\")"
   ]
  },
  {
   "cell_type": "code",
   "execution_count": 10,
   "id": "7ce118a2",
   "metadata": {},
   "outputs": [],
   "source": [
    "AdjacentSelfRule.generate_rule(board, [BandRule(SpaceObject.DwarfPlanet, 6, Precision.STRICT)], [], SpaceObject.DwarfPlanet)"
   ]
  },
  {
   "cell_type": "code",
   "execution_count": 4,
   "id": "90faab95",
   "metadata": {},
   "outputs": [],
   "source": [
    "def test():\n",
    "    Research.generate_research(board, sector_types[24].constraints, 6)"
   ]
  },
  {
   "cell_type": "code",
   "execution_count": 5,
   "id": "a2955e8f",
   "metadata": {},
   "outputs": [
    {
     "data": {
      "text/plain": [
       "19.676305149"
      ]
     },
     "execution_count": 5,
     "metadata": {},
     "output_type": "execute_result"
    }
   ],
   "source": [
    "import timeit\n",
    "timeit.timeit(\"test()\", number=10000, globals=globals())"
   ]
  },
  {
   "cell_type": "code",
   "execution_count": 6,
   "id": "56e4edc9",
   "metadata": {},
   "outputs": [],
   "source": [
    "import cProfile\n",
    "with cProfile.Profile() as pr:\n",
    "    for i in range(5000):\n",
    "        Research.generate_research(board, sector_types[24].constraints, 6)"
   ]
  },
  {
   "cell_type": "code",
   "execution_count": 7,
   "id": "5544c298",
   "metadata": {},
   "outputs": [
    {
     "name": "stdout",
     "output_type": "stream",
     "text": [
      "         94483735 function calls (89273735 primitive calls) in 24.164 seconds\n",
      "\n",
      "   Ordered by: standard name\n",
      "\n",
      "   ncalls  tottime  percall  cumtime  percall filename:lineno(function)\n",
      "  7304678    1.149    0.000    2.127    0.000 abc.py:96(__instancecheck__)\n",
      "  1340000    0.149    0.000    0.149    0.000 board.py:183(__len__)\n",
      " 10590000    0.875    0.000    0.875    0.000 board.py:186(__iter__)\n",
      " 20505000    2.766    0.000    2.766    0.000 board.py:190(__getitem__)\n",
      "  1346767    0.187    0.000    0.187    0.000 board.py:238(num_objects)\n",
      "        1    0.000    0.000    0.000    0.000 cProfile.py:133(__exit__)\n",
      "  1880324    0.376    0.000    0.544    0.000 enum.py:730(__hash__)\n",
      "     5000    0.002    0.000    0.002    0.000 game.py:200(__init__)\n",
      "     5000    0.159    0.000   24.164    0.005 game.py:203(generate_research)\n",
      "     5000    0.010    0.000    0.010    0.000 game.py:213(<listcomp>)\n",
      "     5000    0.036    0.000    1.441    0.000 game.py:217(<listcomp>)\n",
      "     5000    0.015    0.000    0.733    0.000 game.py:221(<listcomp>)\n",
      "     5000    0.004    0.000    0.004    0.000 game.py:224(<listcomp>)\n",
      "     5000    0.016    0.000    0.475    0.000 game.py:225(<listcomp>)\n",
      "     5000    0.065    0.000    5.300    0.001 game.py:230(<listcomp>)\n",
      "     5000    0.060    0.000    4.901    0.001 game.py:232(<listcomp>)\n",
      "     5000    0.011    0.000    0.011    0.000 game.py:234(<listcomp>)\n",
      "     5000    0.064    0.000    9.989    0.002 game.py:235(<listcomp>)\n",
      "    75000    0.047    0.000    0.110    0.000 random.py:200(randrange)\n",
      "     5000    0.003    0.000    0.012    0.000 random.py:244(randint)\n",
      "   395000    0.229    0.000    0.335    0.000 random.py:250(_randbelow_with_getrandbits)\n",
      "   295000    0.131    0.000    0.408    0.000 random.py:285(choice)\n",
      "     5000    0.014    0.000    0.034    0.000 random.py:293(shuffle)\n",
      "    36767    0.079    0.000    0.127    0.000 random.py:386(choices)\n",
      "    36767    0.023    0.000    0.041    0.000 random.py:408(<listcomp>)\n",
      "    10720    0.080    0.000    0.305    0.000 rules.py:1020(allowed_rule)\n",
      "   100000    1.322    0.000    3.595    0.000 rules.py:1075(generate_rule)\n",
      "    10000    0.004    0.000    0.004    0.000 rules.py:1155(<listcomp>)\n",
      "    20000    0.007    0.000    0.007    0.000 rules.py:1160(<listcomp>)\n",
      "   100000    0.088    0.000    1.474    0.000 rules.py:1226(positive_positions)\n",
      "   100000    0.721    0.000    1.299    0.000 rules.py:1232(<listcomp>)\n",
      "    55000    0.019    0.000    0.019    0.000 rules.py:1260(__init__)\n",
      "  5210000    1.524    0.000    2.625    0.000 rules.py:1490(_circle_dist)\n",
      "    55000    0.124    0.000    1.250    0.000 rules.py:1498(_max_min_sectors_away)\n",
      "    55000    0.162    0.000    0.272    0.000 rules.py:1504(<listcomp>)\n",
      "    55000    0.150    0.000    0.248    0.000 rules.py:1505(<listcomp>)\n",
      "   720000    0.157    0.000    0.486    0.000 rules.py:1511(<genexpr>)\n",
      "     6642    0.028    0.000    0.081    0.000 rules.py:1541(allowed_rule)\n",
      "   100000    0.367    0.000    2.361    0.000 rules.py:1568(generate_rule)\n",
      "    55000    0.772    0.000    5.537    0.000 rules.py:1735(positive_positions)\n",
      "    55000    0.189    0.000    0.302    0.000 rules.py:1736(<listcomp>)\n",
      "  5700000    1.128    0.000    3.424    0.000 rules.py:1742(<genexpr>)\n",
      "    30000    0.006    0.000    0.006    0.000 rules.py:1774(__init__)\n",
      "    20000    0.008    0.000    0.010    0.000 rules.py:1791(__eq__)\n",
      "     1427    0.009    0.000    0.031    0.000 rules.py:1960(allowed_rule)\n",
      "    25000    0.163    0.000    0.429    0.000 rules.py:2012(generate_rule)\n",
      "    10000    0.026    0.000    0.039    0.000 rules.py:2143(base_strength)\n",
      "    15000    0.004    0.000    0.004    0.000 rules.py:2203(__init__)\n",
      "     1631    0.008    0.000    0.039    0.000 rules.py:2360(allowed_rule)\n",
      "    25000    0.200    0.000    0.640    0.000 rules.py:2412(generate_rule)\n",
      "    15000    0.005    0.000    0.005    0.000 rules.py:2485(<listcomp>)\n",
      "    15000    0.038    0.000    0.066    0.000 rules.py:2534(base_strength)\n",
      "     5000    0.002    0.000    0.002    0.000 rules.py:2586(__init__)\n",
      "    15000    0.069    0.000    0.113    0.000 rules.py:2619(_smallest_band)\n",
      "     1466    0.001    0.000    0.013    0.000 rules.py:2721(allowed_rule)\n",
      "    11728    0.003    0.000    0.009    0.000 rules.py:2722(<genexpr>)\n",
      "    25000    0.050    0.000    0.335    0.000 rules.py:2735(generate_rule)\n",
      "   180000    0.035    0.000    0.107    0.000 rules.py:2739(<genexpr>)\n",
      "     5000    0.010    0.000    0.022    0.000 rules.py:2794(base_strength)\n",
      "   270000    0.564    0.000   10.256    0.000 rules.py:392(base_strength)\n",
      "   610000    0.130    0.000    0.130    0.000 rules.py:465(__init__)\n",
      "   495000    0.283    0.000    0.317    0.000 rules.py:484(__eq__)\n",
      "    14881    0.173    0.000    0.470    0.000 rules.py:634(allowed_rule)\n",
      "   125000    2.175    0.000    4.837    0.000 rules.py:689(generate_rule)\n",
      "    20000    0.007    0.000    0.007    0.000 rules.py:760(<listcomp>)\n",
      "    30000    0.008    0.000    0.008    0.000 rules.py:765(<listcomp>)\n",
      "   115000    0.069    0.000    2.191    0.000 rules.py:832(positive_positions)\n",
      "   115000    1.169    0.000    2.086    0.000 rules.py:833(<listcomp>)\n",
      "   100000    0.028    0.000    0.028    0.000 rules.py:862(__init__)\n",
      "  7304678    0.979    0.000    0.979    0.000 {built-in method _abc._abc_instancecheck}\n",
      "    36767    0.014    0.000    0.014    0.000 {built-in method _bisect.bisect_right}\n",
      "  5210000    0.361    0.000    0.361    0.000 {built-in method builtins.abs}\n",
      "    26466    0.023    0.000    0.139    0.000 {built-in method builtins.any}\n",
      "  1880324    0.168    0.000    0.168    0.000 {built-in method builtins.hash}\n",
      "  9726212    1.700    0.000    3.827    0.000 {built-in method builtins.isinstance}\n",
      "  2403835    0.401    0.000    0.549    0.000 {built-in method builtins.len}\n",
      "    60000    0.015    0.000    0.015    0.000 {built-in method builtins.max}\n",
      "6490000/1280000    1.591    0.000    4.761    0.000 {built-in method builtins.min}\n",
      "     6642    0.002    0.000    0.002    0.000 {built-in method builtins.sum}\n",
      "   575000    0.158    0.000    0.158    0.000 {built-in method math.comb}\n",
      "    45000    0.006    0.000    0.006    0.000 {built-in method math.factorial}\n",
      "   868518    0.067    0.000    0.067    0.000 {method 'append' of 'list' objects}\n",
      "   395000    0.032    0.000    0.032    0.000 {method 'bit_length' of 'int' objects}\n",
      "        1    0.000    0.000    0.000    0.000 {method 'disable' of '_lsprof.Profiler' objects}\n",
      "   759550    0.074    0.000    0.074    0.000 {method 'getrandbits' of '_random.Random' objects}\n",
      "     5000    0.001    0.000    0.001    0.000 {method 'keys' of 'dict' objects}\n",
      "    73534    0.011    0.000    0.011    0.000 {method 'pop' of 'list' objects}\n",
      "    36767    0.005    0.000    0.005    0.000 {method 'random' of '_random.Random' objects}\n",
      "     6642    0.001    0.000    0.001    0.000 {method 'values' of 'dict' objects}\n",
      "\n",
      "\n"
     ]
    }
   ],
   "source": [
    "pr.print_stats()"
   ]
  },
  {
   "cell_type": "code",
   "execution_count": 9,
   "id": "33410912",
   "metadata": {},
   "outputs": [
    {
     "name": "stdout",
     "output_type": "stream",
     "text": [
      "A. At least one gas cloud is directly opposite an asteroid.\n",
      "B. At least one comet is adjacent to an asteroid.\n",
      "C. No gas cloud is adjacent to another gas cloud.\n",
      "D. At least one comet is directly opposite a dwarf planet.\n",
      "E. At least one asteroid is directly opposite a dwarf planet.\n",
      "F. No comet is directly opposite a gas cloud.\n"
     ]
    }
   ],
   "source": [
    "print(Research.generate_research(board, sector_types[24].constraints, 6))"
   ]
  },
  {
   "cell_type": "code",
   "execution_count": 12,
   "id": "e90dfed0",
   "metadata": {},
   "outputs": [],
   "source": [
    "d = AdjacentRule(SpaceObject.Asteroid, SpaceObject.DwarfPlanet, RuleQualifier.NONE)"
   ]
  },
  {
   "cell_type": "code",
   "execution_count": 13,
   "id": "000ab9bd",
   "metadata": {},
   "outputs": [
    {
     "name": "stdout",
     "output_type": "stream",
     "text": [
      "[8, 10, 12, 15]\n",
      "valid positions 16\n",
      "valid combos 8008\n",
      "total combos 38760\n"
     ]
    },
    {
     "data": {
      "text/plain": [
       "0.7934157227998658"
      ]
     },
     "execution_count": 13,
     "metadata": {},
     "output_type": "execute_result"
    }
   ],
   "source": [
    "d.base_strength(board)"
   ]
  },
  {
   "cell_type": "code",
   "execution_count": 6,
   "id": "2e0edbd0",
   "metadata": {},
   "outputs": [],
   "source": [
    "b = AdjacentRule(SpaceObject.Asteroid, SpaceObject.DwarfPlanet, RuleQualifier.AT_LEAST_ONE)\n",
    "b = AdjacentRule(SpaceObject.DwarfPlanet, SpaceObject.Empty, RuleQualifier.EVERY)"
   ]
  },
  {
   "cell_type": "code",
   "execution_count": 7,
   "id": "2090a136",
   "metadata": {},
   "outputs": [
    {
     "ename": "AttributeError",
     "evalue": "'AdjacentRule' object has no attribute 'strength_b'",
     "output_type": "error",
     "traceback": [
      "\u001b[0;31m---------------------------------------------------------------------------\u001b[0m",
      "\u001b[0;31mAttributeError\u001b[0m                            Traceback (most recent call last)",
      "\u001b[0;32m<ipython-input-7-bbd7fcd96b40>\u001b[0m in \u001b[0;36m<module>\u001b[0;34m\u001b[0m\n\u001b[0;32m----> 1\u001b[0;31m \u001b[0mb\u001b[0m\u001b[0;34m.\u001b[0m\u001b[0mstrength_b\u001b[0m\u001b[0;34m(\u001b[0m\u001b[0mboard\u001b[0m\u001b[0;34m,\u001b[0m \u001b[0msector_types\u001b[0m\u001b[0;34m[\u001b[0m\u001b[0;36m24\u001b[0m\u001b[0;34m]\u001b[0m\u001b[0;34m.\u001b[0m\u001b[0mconstraints\u001b[0m\u001b[0;34m)\u001b[0m\u001b[0;34m\u001b[0m\u001b[0;34m\u001b[0m\u001b[0m\n\u001b[0m",
      "\u001b[0;31mAttributeError\u001b[0m: 'AdjacentRule' object has no attribute 'strength_b'"
     ]
    }
   ],
   "source": [
    "b.strength_b(board, sector_types[24].constraints)"
   ]
  },
  {
   "cell_type": "code",
   "execution_count": 5,
   "id": "08ef3082",
   "metadata": {},
   "outputs": [
    {
     "data": {
      "text/plain": [
       "0.95913697286695"
      ]
     },
     "execution_count": 5,
     "metadata": {},
     "output_type": "execute_result"
    }
   ],
   "source": [
    "b.approx_strength(board)"
   ]
  },
  {
   "cell_type": "code",
   "execution_count": 6,
   "id": "9d686f34",
   "metadata": {},
   "outputs": [
    {
     "data": {
      "text/plain": [
       "0.9591836734693877"
      ]
     },
     "execution_count": 6,
     "metadata": {},
     "output_type": "execute_result"
    }
   ],
   "source": [
    "b.strength(board, sector_types[24].constraints)"
   ]
  },
  {
   "cell_type": "code",
   "execution_count": 3,
   "id": "ba6696c4",
   "metadata": {},
   "outputs": [
    {
     "name": "stdout",
     "output_type": "stream",
     "text": [
      "The comets are in a band of at most 4.\n",
      "1.0\n",
      "0.9649036085022245\n",
      "The asteroids are in a band of at most 12.\n",
      "0.5269878119558908\n",
      "0.9176269549388908\n",
      "The dwarf planets are in a band of at most 9.\n",
      "0.8736\n",
      "0.8736\n",
      "No gas cloud is directly opposite another gas cloud.\n",
      "0.1304992585269402\n",
      "0.1304992585269402\n",
      "No asteroid is directly opposite another asteroid.\n",
      "0.3969820081253627\n",
      "0.5606448976559307\n",
      "No dwarf planet is directly opposite another dwarf planet.\n",
      "0.25468235294117647\n",
      "0.25468235294117647\n",
      "No gas cloud is adjacent to another gas cloud.\n",
      "0.2491349480968858\n",
      "0.2491349480968858\n",
      "At least one dwarf planet is adjacent to another dwarf planet.\n",
      "0.5472\n",
      "0.5472\n",
      "No comet is adjacent to an empty sector.\n",
      "0.0\n",
      "0.6503067484662577\n",
      "The black hole is not adjacent to an empty sector.\n",
      "0.29411764705882354\n",
      "0.29411764705882354\n",
      "No asteroid is adjacent to an empty sector.\n",
      "0.5701754385964912\n",
      "0.907611916177342\n",
      "At least one dwarf planet is adjacent to an empty sector.\n",
      "0.2337365152010461\n",
      "0.2337365152010461\n",
      "At least one gas cloud is directly opposite a comet.\n",
      "0.6139954853273137\n",
      "0.6139954853273137\n",
      "No gas cloud is directly opposite the black hole.\n",
      "0.13050847457627118\n",
      "0.13050847457627118\n",
      "At least one gas cloud is directly opposite an asteroid.\n",
      "0.26993865030674846\n",
      "0.26993865030674846\n",
      "At least one gas cloud is directly opposite a dwarf planet.\n",
      "0.4916593503072871\n",
      "0.4916593503072871\n",
      "No comet is directly opposite the black hole.\n",
      "0.0\n",
      "0.13050847457627118\n",
      "No comet is directly opposite an asteroid.\n",
      "0\n",
      "0.7312883435582822\n",
      "At least one comet is directly opposite a dwarf planet.\n",
      "0.1111111111111111\n",
      "0.4916593503072871\n",
      "The black hole is not directly opposite an asteroid.\n",
      "0.35294117647058826\n",
      "0.35294117647058826\n",
      "The black hole is not directly opposite a dwarf planet.\n",
      "0.21052631578947367\n",
      "0.21052631578947367\n",
      "No asteroid is directly opposite a dwarf planet.\n",
      "0.7530674846625767\n",
      "0.7934157227998658\n",
      "At least one gas cloud is adjacent to a comet.\n",
      "0.6139954853273137\n",
      "0.6139954853273137\n",
      "No gas cloud is adjacent to the black hole.\n",
      "0.24915254237288137\n",
      "0.24915254237288137\n",
      "No gas cloud is adjacent to an asteroid.\n",
      "0.3141104294478528\n",
      "0.3141104294478528\n",
      "At least one gas cloud is adjacent to a dwarf planet.\n",
      "0.4916593503072871\n",
      "0.4916593503072871\n",
      "At least one comet is adjacent to the black hole.\n",
      "0.1111111111111111\n",
      "0.751412429378531\n",
      "At least one comet is adjacent to an asteroid.\n",
      "0\n",
      "0.6871165644171779\n",
      "No comet is adjacent to a dwarf planet.\n",
      "0.6666666666666666\n",
      "0.5092186128182616\n",
      "The black hole is not adjacent to an asteroid.\n",
      "0.11764705882352941\n",
      "0.11764705882352941\n",
      "The black hole is not adjacent to a dwarf planet.\n",
      "0.21052631578947367\n",
      "0.21052631578947367\n",
      "At least one asteroid is adjacent to a dwarf planet.\n",
      "0.5230061349693251\n",
      "0.20661007765938233\n",
      "No gas cloud is within 3 sectors of an asteroid.\n",
      "0.7312883435582822\n",
      "0.7312883435582822\n",
      "Every comet is within 5 sectors of an asteroid.\n",
      "0\n",
      "0.8539877300613496\n",
      "No comet is within 5 sectors of a dwarf planet.\n",
      "1.0\n",
      "0.95171202809482\n",
      "The black hole is within 2 sectors of an asteroid.\n",
      "0.8235294117647058\n",
      "0.8235294117647058\n",
      "The black hole is not within 3 sectors of a dwarf planet.\n",
      "0.42105263157894735\n",
      "0.42105263157894735\n",
      "At least one comet is directly opposite a gas cloud.\n",
      "0.4444444444444444\n",
      "0.6139954853273137\n",
      "The black hole is not directly opposite a gas cloud.\n",
      "0.15\n",
      "0.15\n",
      "At least one asteroid is directly opposite a gas cloud.\n",
      "0.24545454545454545\n",
      "0.3421115677349207\n",
      "At least one dwarf planet is directly opposite a gas cloud.\n",
      "0.5113636363636364\n",
      "0.5113636363636364\n",
      "The black hole is not directly opposite a comet.\n",
      "0.15\n",
      "0.15\n",
      "No asteroid is directly opposite a comet.\n",
      "0.6543367346938775\n",
      "0.6579068610286936\n",
      "At least one dwarf planet is directly opposite a comet.\n",
      "0.5113636363636364\n",
      "0.5113636363636364\n",
      "No asteroid is directly opposite the black hole.\n",
      "0.2708978328173375\n",
      "0.26087214946605114\n",
      "No dwarf planet is directly opposite the black hole.\n",
      "0.17393268579173254\n",
      "0.17393268579173254\n",
      "No dwarf planet is directly opposite an asteroid.\n",
      "0.8385093167701864\n",
      "0.8385093167701864\n",
      "At least one comet is adjacent to a gas cloud.\n",
      "0.4444444444444444\n",
      "0.34236267870579384\n",
      "The black hole is not adjacent to a gas cloud.\n",
      "0.3\n",
      "0.3\n",
      "No asteroid is adjacent to a gas cloud.\n",
      "0.6878787878787879\n",
      "0.9077824668742974\n",
      "At least one dwarf planet is adjacent to a gas cloud.\n",
      "0.22810828877005349\n",
      "0.22810828877005349\n",
      "The black hole is adjacent to a comet.\n",
      "0.9\n",
      "0.9\n",
      "At least one asteroid is adjacent to a comet.\n",
      "0.6798469387755102\n",
      "0.3421115677349207\n",
      "No dwarf planet is adjacent to a comet.\n",
      "0.4888034759358289\n",
      "0.4888034759358289\n",
      "No asteroid is adjacent to the black hole.\n",
      "0.27631578947368424\n",
      "0.4624551740534543\n",
      "No dwarf planet is adjacent to the black hole.\n",
      "0.32414727806641064\n",
      "0.32414727806641064\n",
      "At least one dwarf planet is adjacent to an asteroid.\n",
      "0.5949656750572082\n",
      "0.5949656750572082\n",
      "Every comet is within 5 sectors of a gas cloud.\n",
      "0.3333333333333333\n",
      "0.3867569601203913\n",
      "The black hole is within 3 sectors of a gas cloud.\n",
      "0.45\n",
      "0.35\n",
      "The black hole is within 4 sectors of a comet.\n",
      "0.65\n",
      "0.6\n",
      "Every dwarf planet is within 7 sectors of an asteroid.\n",
      "0.4674730304020922\n",
      "0.6730957829355999\n",
      "A. At least one gas cloud is adjacent to a dwarf planet.\n",
      "B. No gas cloud is adjacent to an asteroid.\n",
      "C. No asteroid is directly opposite another asteroid.\n",
      "D. No black hole is directly opposite a dwarf planet.\n",
      "E. No dwarf planet is directly opposite another dwarf planet.\n",
      "F. No gas cloud is directly opposite a black hole.\n"
     ]
    }
   ],
   "source": [
    "print(Research.generate_research(board, sector_types[12].constraints, 6))"
   ]
  },
  {
   "cell_type": "code",
   "execution_count": 10,
   "id": "bd2dd13a",
   "metadata": {},
   "outputs": [],
   "source": [
    "import cProfile"
   ]
  },
  {
   "cell_type": "code",
   "execution_count": 13,
   "id": "0cbcabdf",
   "metadata": {},
   "outputs": [],
   "source": [
    "import cProfile\n",
    "with cProfile.Profile() as pr:\n",
    "    for i in range(100):\n",
    "        Research.generate_research(board, sector_types[12].constraints, 6)"
   ]
  },
  {
   "cell_type": "code",
   "execution_count": 14,
   "id": "da42d76a",
   "metadata": {},
   "outputs": [
    {
     "name": "stdout",
     "output_type": "stream",
     "text": [
      "         21038266 function calls (20829466 primitive calls) in 5.227 seconds\n",
      "\n",
      "   Ordered by: standard name\n",
      "\n",
      "   ncalls  tottime  percall  cumtime  percall filename:lineno(function)\n",
      "    74200    0.014    0.000    0.026    0.000 abc.py:96(__instancecheck__)\n",
      "   188600    0.066    0.000    0.081    0.000 board.py:167(__init__)\n",
      "   315217    0.036    0.000    0.036    0.000 board.py:183(__len__)\n",
      "  1599500    0.143    0.000    0.143    0.000 board.py:186(__iter__)\n",
      "  3961627    0.549    0.000    0.549    0.000 board.py:190(__getitem__)\n",
      "   954600    0.182    0.000    0.182    0.000 board.py:194(__setitem__)\n",
      "   184800    0.089    0.000    0.275    0.000 board.py:223(copy)\n",
      "   227232    0.857    0.000    1.943    0.000 board.py:229(_calc_num_objects)\n",
      "   227232    0.083    0.000    2.026    0.000 board.py:238(num_objects)\n",
      "        1    0.000    0.000    0.000    0.000 cProfile.py:133(__exit__)\n",
      "   184800    0.072    0.000    0.106    0.000 copy.py:66(copy)\n",
      "  5309348    0.821    0.000    1.174    0.000 enum.py:730(__hash__)\n",
      "      100    0.000    0.000    0.000    0.000 game.py:200(__init__)\n",
      "      100    0.003    0.000    5.227    0.052 game.py:203(generate_research)\n",
      "      100    0.000    0.000    0.000    0.000 game.py:213(<listcomp>)\n",
      "      100    0.001    0.000    0.036    0.000 game.py:217(<listcomp>)\n",
      "      100    0.000    0.000    0.019    0.000 game.py:221(<listcomp>)\n",
      "      100    0.000    0.000    0.000    0.000 game.py:224(<listcomp>)\n",
      "      100    0.003    0.000    1.777    0.018 game.py:225(<listcomp>)\n",
      "      100    0.001    0.000    0.089    0.001 game.py:231(<listcomp>)\n",
      "      100    0.001    0.000    0.080    0.001 game.py:233(<listcomp>)\n",
      "      100    0.000    0.000    0.000    0.000 game.py:235(<listcomp>)\n",
      "      100    0.005    0.000    3.218    0.032 game.py:236(<listcomp>)\n",
      "     1000    0.001    0.000    0.002    0.000 random.py:200(randrange)\n",
      "      300    0.000    0.000    0.001    0.000 random.py:244(randint)\n",
      "     5000    0.003    0.000    0.005    0.000 random.py:250(_randbelow_with_getrandbits)\n",
      "     3500    0.002    0.000    0.005    0.000 random.py:285(choice)\n",
      "      100    0.000    0.000    0.001    0.000 random.py:293(shuffle)\n",
      "      600    0.001    0.000    0.002    0.000 random.py:386(choices)\n",
      "      600    0.000    0.000    0.001    0.000 random.py:408(<listcomp>)\n",
      "     1200    0.012    0.000    0.058    0.000 rules.py:1031(generate_rule)\n",
      "      200    0.000    0.000    0.000    0.000 rules.py:1111(<listcomp>)\n",
      "      300    0.000    0.000    0.000    0.000 rules.py:1116(<listcomp>)\n",
      "      500    0.000    0.000    0.000    0.000 rules.py:1216(__init__)\n",
      "      384    0.002    0.000    0.003    0.000 rules.py:1279(_is_satisfied_none)\n",
      "     3716    0.031    0.000    0.057    0.000 rules.py:1296(_num_within)\n",
      "     4100    0.006    0.000    0.103    0.000 rules.py:1315(is_satisfied)\n",
      "     3200    0.001    0.000    0.002    0.000 rules.py:1446(_circle_dist)\n",
      "      700    0.002    0.000    0.010    0.000 rules.py:1454(_max_min_sectors_away)\n",
      "      700    0.001    0.000    0.002    0.000 rules.py:1460(<listcomp>)\n",
      "      700    0.001    0.000    0.002    0.000 rules.py:1461(<listcomp>)\n",
      "     4300    0.001    0.000    0.003    0.000 rules.py:1467(<genexpr>)\n",
      "     1200    0.004    0.000    0.049    0.000 rules.py:1497(generate_rule)\n",
      "      400    0.000    0.000    0.000    0.000 rules.py:1703(__init__)\n",
      "      300    0.000    0.000    0.000    0.000 rules.py:1720(__eq__)\n",
      "    36800    0.064    0.000    0.676    0.000 rules.py:1732(is_satisfied)\n",
      "    36800    0.112    0.000    0.198    0.000 rules.py:1733(<listcomp>)\n",
      "236700/31100    0.340    0.000    1.346    0.000 rules.py:1764(_fill_board_runs)\n",
      "    17100    0.043    0.000    0.075    0.000 rules.py:1789(<listcomp>)\n",
      "     1800    0.003    0.000    0.005    0.000 rules.py:1808(_prepare_board)\n",
      "    31100    0.010    0.000    1.372    0.000 rules.py:1850(_fill_board_every)\n",
      "    11700    0.003    0.000    0.004    0.000 rules.py:1851(<genexpr>)\n",
      "      900    0.002    0.000    0.003    0.000 rules.py:1852(<genexpr>)\n",
      "      900    0.002    0.000    0.002    0.000 rules.py:1854(<genexpr>)\n",
      "      900    0.001    0.000    0.001    0.000 rules.py:1861(fill_board)\n",
      "      400    0.002    0.000    0.009    0.000 rules.py:1889(generate_rule)\n",
      "      100    0.000    0.000    0.000    0.000 rules.py:1953(<listcomp>)\n",
      "      200    0.000    0.000    0.000    0.000 rules.py:2096(__init__)\n",
      "    12000    0.012    0.000    0.077    0.000 rules.py:2125(is_satisfied)\n",
      "    12000    0.031    0.000    0.054    0.000 rules.py:2131(<listcomp>)\n",
      "      400    0.003    0.000    0.012    0.000 rules.py:2253(generate_rule)\n",
      "      200    0.000    0.000    0.000    0.000 rules.py:2326(<listcomp>)\n",
      "      100    0.000    0.000    0.000    0.000 rules.py:2331(<listcomp>)\n",
      "      300    0.000    0.000    0.000    0.000 rules.py:2427(__init__)\n",
      "    13300    0.032    0.000    0.055    0.000 rules.py:2460(_smallest_band)\n",
      "    13000    0.008    0.000    0.061    0.000 rules.py:2491(is_satisfied)\n",
      "      400    0.001    0.000    0.015    0.000 rules.py:2562(generate_rule)\n",
      "     2000    0.000    0.000    0.002    0.000 rules.py:2566(<genexpr>)\n",
      "     1000    0.002    0.000    0.004    0.000 rules.py:2687(is_satisfied)\n",
      "     8500    0.013    0.000    0.047    0.000 rules.py:2700(fill_board)\n",
      "     1000    0.002    0.000    0.003    0.000 rules.py:2704(<setcomp>)\n",
      "    29100    0.006    0.000    0.009    0.000 rules.py:2710(<genexpr>)\n",
      "    12800    0.002    0.000    0.002    0.000 rules.py:325(space_objects)\n",
      "     3200    0.423    0.000    3.552    0.001 rules.py:372(strength)\n",
      "     3200    0.015    0.000    0.041    0.000 rules.py:373(<listcomp>)\n",
      "     3200    0.008    0.000    0.012    0.000 rules.py:378(<listcomp>)\n",
      "     3200    0.016    0.000    0.500    0.000 rules.py:410(<listcomp>)\n",
      "      600    0.212    0.000    1.435    0.002 rules.py:443(strength)\n",
      "      600    0.001    0.000    0.003    0.000 rules.py:444(<listcomp>)\n",
      "      600    0.007    0.000    0.185    0.000 rules.py:479(<listcomp>)\n",
      "     4700    0.001    0.000    0.001    0.000 rules.py:491(__init__)\n",
      "     3200    0.002    0.000    0.003    0.000 rules.py:510(__eq__)\n",
      "    30300    0.028    0.000    0.209    0.000 rules.py:531(is_satisfied)\n",
      "   167700    0.050    0.000    0.079    0.000 rules.py:533(<genexpr>)\n",
      "   120300    0.036    0.000    0.057    0.000 rules.py:537(<genexpr>)\n",
      "    18700    0.005    0.000    0.008    0.000 rules.py:541(<genexpr>)\n",
      "     1600    0.019    0.000    0.079    0.000 rules.py:659(generate_rule)\n",
      "      400    0.000    0.000    0.000    0.000 rules.py:730(<listcomp>)\n",
      "      600    0.000    0.000    0.000    0.000 rules.py:735(<listcomp>)\n",
      "     1200    0.000    0.000    0.000    0.000 rules.py:873(__init__)\n",
      "    26500    0.028    0.000    0.173    0.000 rules.py:913(is_satisfied)\n",
      "    26500    0.067    0.000    0.117    0.000 rules.py:915(<listcomp>)\n",
      "    39600    0.035    0.000    0.057    0.000 utilities.py:23(helper)\n",
      "    74200    0.012    0.000    0.012    0.000 {built-in method _abc._abc_instancecheck}\n",
      "      600    0.000    0.000    0.000    0.000 {built-in method _bisect.bisect_right}\n",
      "     3200    0.000    0.000    0.000    0.000 {built-in method builtins.abs}\n",
      "    12000    0.006    0.000    0.022    0.000 {built-in method builtins.all}\n",
      "    28700    0.025    0.000    0.161    0.000 {built-in method builtins.any}\n",
      "  5309348    0.353    0.000    0.353    0.000 {built-in method builtins.hash}\n",
      "    89300    0.019    0.000    0.045    0.000 {built-in method builtins.isinstance}\n",
      "   748833    0.103    0.000    0.139    0.000 {built-in method builtins.len}\n",
      "    40898    0.007    0.000    0.007    0.000 {built-in method builtins.max}\n",
      "5300/2100    0.002    0.000    0.004    0.000 {built-in method builtins.min}\n",
      "      900    0.002    0.000    0.005    0.000 {built-in method builtins.sum}\n",
      "     5017    0.000    0.000    0.000    0.000 {method 'add' of 'set' objects}\n",
      "    93700    0.009    0.000    0.009    0.000 {method 'append' of 'list' objects}\n",
      "     5000    0.000    0.000    0.000    0.000 {method 'bit_length' of 'int' objects}\n",
      "   184800    0.018    0.000    0.018    0.000 {method 'copy' of 'list' objects}\n",
      "        1    0.000    0.000    0.000    0.000 {method 'disable' of '_lsprof.Profiler' objects}\n",
      "     1900    0.006    0.000    1.425    0.001 {method 'extend' of 'list' objects}\n",
      "   184800    0.016    0.000    0.016    0.000 {method 'get' of 'dict' objects}\n",
      "     9612    0.001    0.000    0.001    0.000 {method 'getrandbits' of '_random.Random' objects}\n",
      "    39600    0.004    0.000    0.004    0.000 {method 'items' of 'dict' objects}\n",
      "      100    0.000    0.000    0.000    0.000 {method 'keys' of 'dict' objects}\n",
      "     1200    0.000    0.000    0.000    0.000 {method 'pop' of 'list' objects}\n",
      "      600    0.000    0.000    0.000    0.000 {method 'random' of '_random.Random' objects}\n",
      "\n",
      "\n"
     ]
    }
   ],
   "source": [
    "pr.print_stats()"
   ]
  },
  {
   "cell_type": "code",
   "execution_count": 3,
   "id": "a4dfadd7",
   "metadata": {},
   "outputs": [
    {
     "data": {
      "text/plain": [
       "<<asteroid>, band: 5, precision: WITHIN>"
      ]
     },
     "execution_count": 3,
     "metadata": {},
     "output_type": "execute_result"
    }
   ],
   "source": [
    "b = BandRule(SpaceObject.Asteroid, 5, Precision.WITHIN)\n",
    "b"
   ]
  },
  {
   "cell_type": "code",
   "execution_count": 4,
   "id": "ebab8be3",
   "metadata": {},
   "outputs": [
    {
     "data": {
      "text/plain": [
       "0.9048582995951417"
      ]
     },
     "execution_count": 4,
     "metadata": {},
     "output_type": "execute_result"
    }
   ],
   "source": [
    "b.approx_strength(board)"
   ]
  },
  {
   "cell_type": "code",
   "execution_count": 5,
   "id": "2a86b36f",
   "metadata": {},
   "outputs": [
    {
     "data": {
      "text/plain": [
       "0.5660377358490566"
      ]
     },
     "execution_count": 5,
     "metadata": {},
     "output_type": "execute_result"
    }
   ],
   "source": [
    "b.strength(board, sector_types[12].constraints)"
   ]
  },
  {
   "cell_type": "code",
   "execution_count": 6,
   "id": "587fcb84",
   "metadata": {},
   "outputs": [
    {
     "data": {
      "text/plain": [
       "0.09696969696969697"
      ]
     },
     "execution_count": 6,
     "metadata": {},
     "output_type": "execute_result"
    }
   ],
   "source": [
    "b.base_factor(board)"
   ]
  },
  {
   "cell_type": "code",
   "execution_count": 7,
   "id": "ea503856",
   "metadata": {},
   "outputs": [],
   "source": [
    "a = AdjacentSelfRule(SpaceObject.Asteroid, RuleQualifier.EVERY)"
   ]
  },
  {
   "cell_type": "code",
   "execution_count": 8,
   "id": "75ef4e7e",
   "metadata": {},
   "outputs": [
    {
     "data": {
      "text/plain": [
       "0.10909090909090909"
      ]
     },
     "execution_count": 8,
     "metadata": {},
     "output_type": "execute_result"
    }
   ],
   "source": [
    "a.base_factor(board)"
   ]
  },
  {
   "cell_type": "code",
   "execution_count": 9,
   "id": "486288ce",
   "metadata": {},
   "outputs": [],
   "source": [
    "# correlation = 1 : same rule\n",
    "# correlation = 0: no correlation\n",
    "# correlation = -1 : can't both happen \n",
    "            \n",
    "# overlap in eliminated sectors for rules A and B:\n",
    "#     if correlation = 1 -> B eliminates 0 more combos, strength = 0\n",
    "#     if correlation = 0 -> B eliminates same % of combos as normal\n",
    "#     if correlation = -1 -> impossible (B eliminates every combo)\n",
    "#     if correlation < 0 -> B eliminates more combo than usual \n",
    "#     if correlation = 0.5: B eliminates half the number of sectors it usually would (?)\n",
    "        \n",
    "# what does correlation = 0.5 means"
   ]
  },
  {
   "cell_type": "code",
   "execution_count": 10,
   "id": "6c4c2eb6",
   "metadata": {},
   "outputs": [
    {
     "data": {
      "text/plain": [
       "0.5660377358490566"
      ]
     },
     "execution_count": 10,
     "metadata": {},
     "output_type": "execute_result"
    }
   ],
   "source": [
    "b.strength(board, sector_types[12].constraints)"
   ]
  },
  {
   "cell_type": "code",
   "execution_count": 3,
   "id": "828a1ca6",
   "metadata": {},
   "outputs": [
    {
     "data": {
      "text/plain": [
       "1.0"
      ]
     },
     "execution_count": 3,
     "metadata": {},
     "output_type": "execute_result"
    }
   ],
   "source": [
    "WithinRule(SpaceObject.Comet, SpaceObject.Asteroid, RuleQualifier.EVERY, 2).strength(board, sector_types[12].constraints)"
   ]
  },
  {
   "cell_type": "code",
   "execution_count": 4,
   "id": "9263db29",
   "metadata": {},
   "outputs": [],
   "source": [
    "board = Board.parse(\"AAEECXCEDEGDDDAAEG\")"
   ]
  },
  {
   "cell_type": "code",
   "execution_count": 5,
   "id": "9bb52779",
   "metadata": {},
   "outputs": [],
   "source": [
    "def test():\n",
    "    Research.generate_research(board, sector_types[12].constraints, 6)"
   ]
  },
  {
   "cell_type": "code",
   "execution_count": 6,
   "id": "717d021c",
   "metadata": {},
   "outputs": [],
   "source": [
    "import timeit"
   ]
  },
  {
   "cell_type": "code",
   "execution_count": 7,
   "id": "244225ce",
   "metadata": {},
   "outputs": [
    {
     "data": {
      "text/plain": [
       "1.107481782999999"
      ]
     },
     "execution_count": 7,
     "metadata": {},
     "output_type": "execute_result"
    }
   ],
   "source": [
    "timeit.timeit(\"test()\", number=1000, globals=globals())"
   ]
  },
  {
   "cell_type": "code",
   "execution_count": null,
   "id": "30f31766",
   "metadata": {},
   "outputs": [],
   "source": [
    "AdjacentSelfRule(SpaceObject.Comet, RuleQualifier.EVERY).strength(board, sector_types[12].constraints)"
   ]
  },
  {
   "cell_type": "code",
   "execution_count": null,
   "id": "53af25c8",
   "metadata": {
    "scrolled": true
   },
   "outputs": [],
   "source": [
    "OppositeSelfRule(SpaceObject.Asteroid, RuleQualifier.EVERY).strength(board, sector_types[12].constraints)"
   ]
  },
  {
   "cell_type": "code",
   "execution_count": null,
   "id": "d96ef3c5",
   "metadata": {},
   "outputs": [],
   "source": [
    "OppositeSelfRule(SpaceObject.Asteroid, RuleQualifier.NONE).approx_strength(board)"
   ]
  },
  {
   "cell_type": "code",
   "execution_count": null,
   "id": "b706dad5",
   "metadata": {},
   "outputs": [],
   "source": [
    "CometRule(12).approx_strength(board)"
   ]
  },
  {
   "cell_type": "code",
   "execution_count": null,
   "id": "b72b8eb9",
   "metadata": {},
   "outputs": [],
   "source": [
    "for constraint in sector_types[12].constraints:\n",
    "    print(constraint)\n",
    "    print(constraint.strength(board))"
   ]
  },
  {
   "cell_type": "code",
   "execution_count": null,
   "id": "7b232d5c",
   "metadata": {},
   "outputs": [],
   "source": [
    "x = \"y\""
   ]
  },
  {
   "cell_type": "code",
   "execution_count": null,
   "id": "79468a75",
   "metadata": {},
   "outputs": [],
   "source": [
    "{x: \"Z\"}"
   ]
  },
  {
   "cell_type": "code",
   "execution_count": null,
   "id": "8e8db9fd",
   "metadata": {},
   "outputs": [],
   "source": [
    "random.choices([1,2,3], k=4)"
   ]
  },
  {
   "cell_type": "code",
   "execution_count": null,
   "id": "d2e471ab",
   "metadata": {},
   "outputs": [],
   "source": []
  }
 ],
 "metadata": {
  "kernelspec": {
   "display_name": "Python 3",
   "language": "python",
   "name": "python3"
  },
  "language_info": {
   "codemirror_mode": {
    "name": "ipython",
    "version": 3
   },
   "file_extension": ".py",
   "mimetype": "text/x-python",
   "name": "python",
   "nbconvert_exporter": "python",
   "pygments_lexer": "ipython3",
   "version": "3.8.8"
  }
 },
 "nbformat": 4,
 "nbformat_minor": 5
}
