{
 "cells": [
  {
   "cell_type": "code",
   "execution_count": null,
   "id": "af80fec2",
   "metadata": {},
   "outputs": [],
   "source": [
    "from planetx_game.db_ops import query\n",
    "from planetx_game.game import *\n",
    "import matplotlib.pyplot as plt"
   ]
  },
  {
   "cell_type": "code",
   "execution_count": null,
   "id": "2af4a7f0",
   "metadata": {},
   "outputs": [],
   "source": [
    "rows = query(\"SELECT * FROM games WHERE board_size = 18 LIMIT 10000;\")"
   ]
  },
  {
   "cell_type": "code",
   "execution_count": null,
   "id": "1eb1c17c",
   "metadata": {},
   "outputs": [],
   "source": [
    "def row_to_game(row):\n",
    "    gid, game_code, board_size, board_objects, research, conference, starting_information = row\n",
    "    game = Game(Board.parse(board_objects), StartingInformation.parse(starting_information), \n",
    "                Research.parse(research), Conference.parse(conference))\n",
    "    return game"
   ]
  },
  {
   "cell_type": "code",
   "execution_count": null,
   "id": "cfaa5f1e",
   "metadata": {},
   "outputs": [],
   "source": [
    "games = [row_to_game(row) for row in rows]"
   ]
  },
  {
   "cell_type": "code",
   "execution_count": null,
   "id": "a5762417",
   "metadata": {},
   "outputs": [],
   "source": [
    "counts = {\n",
    "    obj: []\n",
    "    for obj in SpaceObject\n",
    "}"
   ]
  },
  {
   "cell_type": "code",
   "execution_count": null,
   "id": "463aea93",
   "metadata": {},
   "outputs": [],
   "source": [
    "for game in games:\n",
    "    for equinox in game.starting_info.clues:\n",
    "        e_counts = { obj: 0 for obj in SpaceObject }\n",
    "        for clue in game.starting_info.clues[equinox]:\n",
    "            e_counts[clue.eliminated_obj] += 1\n",
    "        for obj in SpaceObject:\n",
    "            counts[obj].append(e_counts[obj])"
   ]
  },
  {
   "cell_type": "code",
   "execution_count": null,
   "id": "ada1b533",
   "metadata": {},
   "outputs": [],
   "source": [
    "counts.keys()"
   ]
  },
  {
   "cell_type": "code",
   "execution_count": null,
   "id": "977a3889",
   "metadata": {},
   "outputs": [],
   "source": [
    "obj = SpaceObject.Asteroid\n",
    "binwidth = 1\n",
    "data = counts[obj]\n",
    "bins=range(min(data), max(data) + binwidth, binwidth)"
   ]
  },
  {
   "cell_type": "code",
   "execution_count": null,
   "id": "4e1bed04",
   "metadata": {},
   "outputs": [],
   "source": [
    "plt.hist(data, bins=bins)\n",
    "plt.show()"
   ]
  },
  {
   "cell_type": "code",
   "execution_count": null,
   "id": "fd800338",
   "metadata": {},
   "outputs": [],
   "source": []
  }
 ],
 "metadata": {
  "kernelspec": {
   "display_name": "Python 3",
   "language": "python",
   "name": "python3"
  },
  "language_info": {
   "codemirror_mode": {
    "name": "ipython",
    "version": 3
   },
   "file_extension": ".py",
   "mimetype": "text/x-python",
   "name": "python",
   "nbconvert_exporter": "python",
   "pygments_lexer": "ipython3",
   "version": "3.8.8"
  }
 },
 "nbformat": 4,
 "nbformat_minor": 5
}
