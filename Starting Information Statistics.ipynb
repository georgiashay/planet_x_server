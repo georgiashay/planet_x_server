{
 "cells": [
  {
   "cell_type": "code",
   "execution_count": 1,
   "id": "9f57e0de",
   "metadata": {},
   "outputs": [],
   "source": [
    "from planetx_game.db_ops import query\n",
    "from planetx_game.game import *\n",
    "import matplotlib.pyplot as plt"
   ]
  },
  {
   "cell_type": "code",
   "execution_count": 16,
   "id": "06926759",
   "metadata": {},
   "outputs": [],
   "source": [
    "rows = query(\"SELECT * FROM games WHERE board_size = 18 LIMIT 10000;\")"
   ]
  },
  {
   "cell_type": "code",
   "execution_count": 17,
   "id": "529c30b4",
   "metadata": {},
   "outputs": [],
   "source": [
    "def row_to_game(row):\n",
    "    gid, game_code, board_size, board_objects, research, conference, starting_information = row\n",
    "    game = Game(Board.parse(board_objects), StartingInformation.parse(starting_information), \n",
    "                Research.parse(research), Conference.parse(conference))\n",
    "    return game"
   ]
  },
  {
   "cell_type": "code",
   "execution_count": 18,
   "id": "73aac72c",
   "metadata": {},
   "outputs": [],
   "source": [
    "games = [row_to_game(row) for row in rows]"
   ]
  },
  {
   "cell_type": "code",
   "execution_count": 19,
   "id": "2aa88d35",
   "metadata": {},
   "outputs": [],
   "source": [
    "counts = {\n",
    "    obj: []\n",
    "    for obj in SpaceObject\n",
    "}"
   ]
  },
  {
   "cell_type": "code",
   "execution_count": 20,
   "id": "5c651b7e",
   "metadata": {},
   "outputs": [],
   "source": [
    "for game in games:\n",
    "    for equinox in game.starting_info.clues:\n",
    "        e_counts = { obj: 0 for obj in SpaceObject }\n",
    "        for clue in game.starting_info.clues[equinox]:\n",
    "            e_counts[clue.eliminated_obj] += 1\n",
    "        for obj in SpaceObject:\n",
    "            counts[obj].append(e_counts[obj])"
   ]
  },
  {
   "cell_type": "code",
   "execution_count": 21,
   "id": "6dec4a6e",
   "metadata": {},
   "outputs": [
    {
     "data": {
      "text/plain": [
       "dict_keys([<empty sector>, <comet>, <asteroid>, <dwarf planet>, <Planet X>, <gas cloud>, <black hole>])"
      ]
     },
     "execution_count": 21,
     "metadata": {},
     "output_type": "execute_result"
    }
   ],
   "source": [
    "counts.keys()"
   ]
  },
  {
   "cell_type": "code",
   "execution_count": 22,
   "id": "be01b570",
   "metadata": {},
   "outputs": [],
   "source": [
    "obj = SpaceObject.\n",
    "binwidth = 1\n",
    "data = counts[obj]\n",
    "bins=range(min(data), max(data) + binwidth, binwidth)"
   ]
  },
  {
   "cell_type": "code",
   "execution_count": 23,
   "id": "896ed669",
   "metadata": {},
   "outputs": [
    {
     "data": {
      "image/png": "[encoded data removed]",
      "text/plain": [
       "<Figure size 432x288 with 1 Axes>"
      ]
     },
     "metadata": {
      "needs_background": "light"
     },
     "output_type": "display_data"
    }
   ],
   "source": [
    "plt.hist(data, bins=bins)\n",
    "plt.show()"
   ]
  },
  {
   "cell_type": "code",
   "execution_count": null,
   "id": "c2050161",
   "metadata": {},
   "outputs": [],
   "source": []
  }
 ],
 "metadata": {
  "kernelspec": {
   "display_name": "Python 3",
   "language": "python",
   "name": "python3"
  },
  "language_info": {
   "codemirror_mode": {
    "name": "ipython",
    "version": 3
   },
   "file_extension": ".py",
   "mimetype": "text/x-python",
   "name": "python",
   "nbconvert_exporter": "python",
   "pygments_lexer": "ipython3",
   "version": "3.8.8"
  }
 },
 "nbformat": 4,
 "nbformat_minor": 5
}
