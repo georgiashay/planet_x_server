{
 "cells": [
  {
   "cell_type": "code",
   "execution_count": 3,
   "id": "generic-instruction",
   "metadata": {},
   "outputs": [],
   "source": [
    "from fastapi import FastAPI\n",
    "from fastapi_websocket_pubsub import PubSubEndpoint"
   ]
  },
  {
   "cell_type": "code",
   "execution_count": 10,
   "id": "nonprofit-pleasure",
   "metadata": {},
   "outputs": [],
   "source": [
    "app = FastAPI() \n",
    "endpoint = PubSubEndpoint()\n",
    "endpoint.register_route(app, \"/pubsub\")"
   ]
  },
  {
   "cell_type": "code",
   "execution_count": 9,
   "id": "resistant-habitat",
   "metadata": {},
   "outputs": [
    {
     "data": {
      "text/plain": [
       "<coroutine object PubSubEndpoint.publish at 0x7ffab89b17a0>"
      ]
     },
     "execution_count": 9,
     "metadata": {},
     "output_type": "execute_result"
    }
   ],
   "source": [
    "endpoint.publish([\"my_event_topic\"], data=[\"my\", \"data\", 1])"
   ]
  },
  {
   "cell_type": "code",
   "execution_count": 15,
   "id": "union-strike",
   "metadata": {},
   "outputs": [],
   "source": [
    "import asyncio\n",
    "import uvicorn\n",
    "from fastapi import FastAPI\n",
    "from fastapi.routing import APIRouter\n",
    "\n",
    "from fastapi_websocket_pubsub import PubSubEndpoint\n",
    "app =  FastAPI()\n",
    "# Init endpoint\n",
    "endpoint = PubSubEndpoint()\n",
    "# register the endpoint on the app\n",
    "endpoint.register_route(app, \"/pubsub\")\n",
    "# Register a regular HTTP route\n",
    "@app.get(\"/trigger\")\n",
    "async def trigger_events():\n",
    "    # Upon request trigger an event\n",
    "    endpoint.publish([\"triggered\"])"
   ]
  },
  {
   "cell_type": "code",
   "execution_count": 19,
   "id": "inner-breathing",
   "metadata": {},
   "outputs": [],
   "source": [
    "from fastapi_websocket_pubsub import PubSubClient\n",
    "# Callback to be called upon event being published on server\n",
    "async def on_trigger(data):\n",
    "    print(\"Trigger URL was accessed\")\n",
    "\n",
    "async with PubSubClient(server_uri=\"ws://localhost/pubsub\") as client:\n",
    "    # Subscribe for the event \n",
    "    client.subscribe(\"triggered\", on_trigger)"
   ]
  },
  {
   "cell_type": "code",
   "execution_count": 16,
   "id": "suffering-visibility",
   "metadata": {},
   "outputs": [],
   "source": [
    "from fastapi import FastAPI, Depends\n",
    "\n",
    "app = FastAPI()\n",
    "\n",
    "@app.get('/')\n",
    "async def root():\n",
    "    return {'message': 'Hello World!'}"
   ]
  },
  {
   "cell_type": "code",
   "execution_count": null,
   "id": "experimental-detroit",
   "metadata": {},
   "outputs": [],
   "source": []
  }
 ],
 "metadata": {
  "kernelspec": {
   "display_name": "Python 3",
   "language": "python",
   "name": "python3"
  },
  "language_info": {
   "codemirror_mode": {
    "name": "ipython",
    "version": 3
   },
   "file_extension": ".py",
   "mimetype": "text/x-python",
   "name": "python",
   "nbconvert_exporter": "python",
   "pygments_lexer": "ipython3",
   "version": "3.7.4"
  }
 },
 "nbformat": 4,
 "nbformat_minor": 5
}
