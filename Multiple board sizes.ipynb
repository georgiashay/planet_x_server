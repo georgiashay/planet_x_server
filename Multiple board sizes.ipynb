{
 "cells": [
  {
   "cell_type": "code",
   "execution_count": 1,
   "id": "final-albania",
   "metadata": {},
   "outputs": [],
   "source": [
    "import server.db_ops as db_ops"
   ]
  },
  {
   "cell_type": "code",
   "execution_count": 18,
   "id": "removed-romance",
   "metadata": {},
   "outputs": [],
   "source": [
    "code, game = db_ops.pick_game(24)"
   ]
  },
  {
   "cell_type": "code",
   "execution_count": 19,
   "id": "positive-savings",
   "metadata": {},
   "outputs": [
    {
     "name": "stdout",
     "output_type": "stream",
     "text": [
      "Board: DCDBCXEEEGGEGAAAAEAAEDCD\n",
      "\n",
      "Research:\n",
      "A. No comet is adjacent to an empty sector.\n",
      "B. No gas cloud is within 4 sectors of a dwarf planet.\n",
      "C. No comet is directly opposite a dwarf planet.\n",
      "D. At least one asteroid is adjacent to a gas cloud.\n",
      "E. The black hole is within 7 sectors of a dwarf planet.\n",
      "F. The black hole is not directly opposite a comet.\n",
      "G. The black hole is not directly opposite a gas cloud.\n",
      "\n",
      "Conference:\n",
      "X1. Planet X is within 2 sectors of an empty sector.\n",
      "X2. Planet X is within 3 sectors of a dwarf planet.\n",
      "X3. Planet X is within 5 sectors of the black hole.\n",
      "\n",
      "Starting Information:\n",
      "WINTER\n",
      "Sector 3 does not contain a comet.\n",
      "Sector 14 does not contain a gas cloud.\n",
      "Sector 22 does not contain a black hole.\n",
      "Sector 5 does not contain a black hole.\n",
      "Sector 4 does not contain a dwarf planet.\n",
      "Sector 6 does not contain an asteroid.\n",
      "Sector 8 does not contain a dwarf planet.\n",
      "Sector 15 does not contain a black hole.\n",
      "Sector 1 does not contain a gas cloud.\n",
      "Sector 11 does not contain a black hole.\n",
      "Sector 21 does not contain an asteroid.\n",
      "Sector 7 does not contain a black hole.\n",
      "Sector 16 does not contain a gas cloud.\n",
      "Sector 9 does not contain a black hole.\n",
      "Sector 12 does not contain an asteroid.\n",
      "Sector 19 does not contain a comet.\n",
      "Sector 20 does not contain a gas cloud.\n",
      "Sector 18 does not contain a black hole.\n",
      "Sector 2 does not contain an asteroid.\n",
      "Sector 23 does not contain a black hole.\n",
      "Sector 13 does not contain a comet.\n",
      "Sector 10 does not contain a dwarf planet.\n",
      "Sector 17 does not contain a comet.\n",
      "Sector 24 does not contain a black hole.\n",
      "\n",
      "SPRING\n",
      "Sector 6 does not contain a gas cloud.\n",
      "Sector 10 does not contain an asteroid.\n",
      "Sector 1 does not contain a gas cloud.\n",
      "Sector 16 does not contain a black hole.\n",
      "Sector 20 does not contain a gas cloud.\n",
      "Sector 24 does not contain an asteroid.\n",
      "Sector 12 does not contain a gas cloud.\n",
      "Sector 4 does not contain an asteroid.\n",
      "Sector 9 does not contain a gas cloud.\n",
      "Sector 19 does not contain a comet.\n",
      "Sector 14 does not contain a gas cloud.\n",
      "Sector 8 does not contain a gas cloud.\n",
      "Sector 13 does not contain a dwarf planet.\n",
      "Sector 5 does not contain a dwarf planet.\n",
      "Sector 2 does not contain a black hole.\n",
      "Sector 17 does not contain a gas cloud.\n",
      "Sector 23 does not contain an asteroid.\n",
      "Sector 7 does not contain a dwarf planet.\n",
      "Sector 11 does not contain a comet.\n",
      "Sector 18 does not contain a dwarf planet.\n",
      "Sector 15 does not contain a black hole.\n",
      "Sector 21 does not contain a black hole.\n",
      "Sector 22 does not contain a black hole.\n",
      "Sector 3 does not contain a comet.\n",
      "\n",
      "SUMMER\n",
      "Sector 16 does not contain a dwarf planet.\n",
      "Sector 11 does not contain a dwarf planet.\n",
      "Sector 23 does not contain a black hole.\n",
      "Sector 3 does not contain a comet.\n",
      "Sector 10 does not contain an asteroid.\n",
      "Sector 9 does not contain an asteroid.\n",
      "Sector 19 does not contain a gas cloud.\n",
      "Sector 8 does not contain a black hole.\n",
      "Sector 17 does not contain a comet.\n",
      "Sector 20 does not contain a gas cloud.\n",
      "Sector 24 does not contain a gas cloud.\n",
      "Sector 15 does not contain a black hole.\n",
      "Sector 4 does not contain a dwarf planet.\n",
      "Sector 5 does not contain a dwarf planet.\n",
      "Sector 22 does not contain an asteroid.\n",
      "Sector 1 does not contain a black hole.\n",
      "Sector 12 does not contain a black hole.\n",
      "Sector 14 does not contain a dwarf planet.\n",
      "Sector 7 does not contain an asteroid.\n",
      "Sector 6 does not contain a dwarf planet.\n",
      "Sector 21 does not contain an asteroid.\n",
      "Sector 18 does not contain a gas cloud.\n",
      "Sector 2 does not contain a gas cloud.\n",
      "Sector 13 does not contain a comet.\n",
      "\n",
      "AUTUMN\n",
      "Sector 2 does not contain a black hole.\n",
      "Sector 20 does not contain a gas cloud.\n",
      "Sector 16 does not contain a gas cloud.\n",
      "Sector 21 does not contain an asteroid.\n",
      "Sector 22 does not contain a black hole.\n",
      "Sector 6 does not contain a dwarf planet.\n",
      "Sector 17 does not contain a black hole.\n",
      "Sector 23 does not contain a black hole.\n",
      "Sector 10 does not contain an asteroid.\n",
      "Sector 4 does not contain an asteroid.\n",
      "Sector 24 does not contain an asteroid.\n",
      "Sector 8 does not contain an asteroid.\n",
      "Sector 11 does not contain a comet.\n",
      "Sector 18 does not contain a dwarf planet.\n",
      "Sector 13 does not contain an asteroid.\n",
      "Sector 1 does not contain a gas cloud.\n",
      "Sector 15 does not contain a dwarf planet.\n",
      "Sector 14 does not contain a black hole.\n",
      "Sector 19 does not contain a black hole.\n",
      "Sector 3 does not contain a comet.\n",
      "Sector 9 does not contain a black hole.\n",
      "Sector 5 does not contain a black hole.\n",
      "Sector 7 does not contain an asteroid.\n",
      "Sector 12 does not contain an asteroid.\n",
      "\n"
     ]
    }
   ],
   "source": [
    "print(game)"
   ]
  },
  {
   "cell_type": "code",
   "execution_count": 11,
   "id": "fifteen-singer",
   "metadata": {},
   "outputs": [
    {
     "data": {
      "text/plain": [
       "[]"
      ]
     },
     "execution_count": 11,
     "metadata": {},
     "output_type": "execute_result"
    }
   ],
   "source": [
    "db_ops.query(\"CREATE UNIQUE INDEX code_index ON games(game_code)\")"
   ]
  },
  {
   "cell_type": "code",
   "execution_count": 12,
   "id": "extraordinary-hollow",
   "metadata": {},
   "outputs": [
    {
     "data": {
      "text/plain": [
       "[]"
      ]
     },
     "execution_count": 12,
     "metadata": {},
     "output_type": "execute_result"
    }
   ],
   "source": [
    "db_ops.query(\"CREATE INDEX sector_index ON games(board_size)\")"
   ]
  },
  {
   "cell_type": "code",
   "execution_count": null,
   "id": "unavailable-heavy",
   "metadata": {},
   "outputs": [],
   "source": []
  }
 ],
 "metadata": {
  "kernelspec": {
   "display_name": "Python 3",
   "language": "python",
   "name": "python3"
  },
  "language_info": {
   "codemirror_mode": {
    "name": "ipython",
    "version": 3
   },
   "file_extension": ".py",
   "mimetype": "text/x-python",
   "name": "python",
   "nbconvert_exporter": "python",
   "pygments_lexer": "ipython3",
   "version": "3.7.4"
  }
 },
 "nbformat": 4,
 "nbformat_minor": 5
}
