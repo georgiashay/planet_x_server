{
 "cells": [
  {
   "cell_type": "code",
   "execution_count": 6,
   "id": "educated-maker",
   "metadata": {},
   "outputs": [],
   "source": [
    "import itertools\n",
    "import random\n",
    "import json\n",
    "from enum import Enum\n",
    "from abc import *"
   ]
  },
  {
   "cell_type": "code",
   "execution_count": 13,
   "id": "liquid-disclaimer",
   "metadata": {},
   "outputs": [],
   "source": [
    "import timeit"
   ]
  },
  {
   "cell_type": "code",
   "execution_count": 7,
   "id": "subject-bryan",
   "metadata": {},
   "outputs": [],
   "source": [
    "from server.rules import *"
   ]
  },
  {
   "cell_type": "code",
   "execution_count": 8,
   "id": "corrected-lecture",
   "metadata": {},
   "outputs": [],
   "source": [
    "from server.utilities import permutations_multi, fill_no_touch, fill_no_within, fill_no_self_touch"
   ]
  },
  {
   "cell_type": "code",
   "execution_count": 9,
   "id": "parallel-prefix",
   "metadata": {},
   "outputs": [],
   "source": [
    "from server.board import *\n",
    "from server.board_type import *"
   ]
  },
  {
   "cell_type": "code",
   "execution_count": 1,
   "id": "following-complexity",
   "metadata": {},
   "outputs": [],
   "source": [
    "from server.game import *"
   ]
  },
  {
   "cell_type": "code",
   "execution_count": null,
   "id": "infinite-shipping",
   "metadata": {},
   "outputs": [],
   "source": [
    "from server.db_ops import "
   ]
  }
 ],
 "metadata": {
  "kernelspec": {
   "display_name": "Python 3",
   "language": "python",
   "name": "python3"
  },
  "language_info": {
   "codemirror_mode": {
    "name": "ipython",
    "version": 3
   },
   "file_extension": ".py",
   "mimetype": "text/x-python",
   "name": "python",
   "nbconvert_exporter": "python",
   "pygments_lexer": "ipython3",
   "version": "3.7.4"
  }
 },
 "nbformat": 4,
 "nbformat_minor": 5
}
