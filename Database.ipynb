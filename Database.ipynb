{
 "cells": [
  {
   "cell_type": "code",
   "execution_count": null,
   "id": "thousand-galaxy",
   "metadata": {},
   "outputs": [],
   "source": [
    "import mysql.connector\n",
    "import json"
   ]
  },
  {
   "cell_type": "code",
   "execution_count": null,
   "id": "closed-observer",
   "metadata": {},
   "outputs": [],
   "source": [
    "from board import *\n",
    "from board_type import * \n",
    "from game import *"
   ]
  },
  {
   "cell_type": "code",
   "execution_count": null,
   "id": "consecutive-observer",
   "metadata": {},
   "outputs": [],
   "source": [
    "with open(\"creds.json\", \"r\") as f:\n",
    "    creds = json.load(f)"
   ]
  },
  {
   "cell_type": "code",
   "execution_count": null,
   "id": "electoral-arctic",
   "metadata": {},
   "outputs": [],
   "source": [
    "def get_connection():\n",
    "    cxn = mysql.connector.connect(user=creds[\"username\"], password=creds[\"password\"],\n",
    "                                 host=creds[\"hostname\"], database=creds[\"database\"])\n",
    "    return cxn"
   ]
  },
  {
   "cell_type": "code",
   "execution_count": null,
   "id": "sweet-domestic",
   "metadata": {},
   "outputs": [],
   "source": [
    "def add_game(game, game_code):\n",
    "    board_size = len(game.board)\n",
    "    board_objects = str(game.board)\n",
    "    research = game.research.code()\n",
    "    conference = game.conference.code()\n",
    "    starting_information = game.starting_info.code()\n",
    "    \n",
    "    cxn = get_connection()\n",
    "    cursor = cxn.cursor()\n",
    "    \n",
    "    add_game_query = (\"INSERT INTO games \"\n",
    "                       \"(game_code, board_size, board_objects, research, conference, starting_information) \"\n",
    "                       \"VALUES (%s, %s, %s, %s, %s, %s);\")\n",
    "    game_data = (game_code, board_size, board_objects, research, conference, starting_information)\n",
    "    \n",
    "    cursor.execute(add_game_query, game_data)\n",
    "    cxn.commit()\n",
    "    \n",
    "    cursor.close()\n",
    "    cxn.close()"
   ]
  },
  {
   "cell_type": "code",
   "execution_count": null,
   "id": "successful-bearing",
   "metadata": {},
   "outputs": [],
   "source": [
    "def add_games(games, game_codes):\n",
    "    values = []\n",
    "    \n",
    "    for game_code, game in zip(game_codes, games):\n",
    "        board_size = len(game.board)\n",
    "        board_objects = str(game.board)\n",
    "        research = game.research.code()\n",
    "        conference = game.conference.code()\n",
    "        starting_information = game.starting_info.code()\n",
    "        \n",
    "        values.append((game_code, board_size, board_objects, research, conference, starting_information))\n",
    "    \n",
    "    add_game_query = (\"INSERT INTO games \"\n",
    "                       \"(game_code, board_size, board_objects, research, conference, starting_information) \"\n",
    "                       \"VALUES (%s, %s, %s, %s, %s, %s);\")\n",
    "        \n",
    "    cxn = get_connection()\n",
    "    cursor = cxn.cursor()\n",
    "    \n",
    "    cursor.executemany(add_game_query, values)\n",
    "    cxn.commit()\n",
    "    \n",
    "    cursor.close()\n",
    "    cxn.close()\n",
    " "
   ]
  },
  {
   "cell_type": "code",
   "execution_count": null,
   "id": "racial-measurement",
   "metadata": {},
   "outputs": [],
   "source": [
    "   \n",
    "def add_games_by_str(games, game_codes):\n",
    "    values = []\n",
    "    \n",
    "    for game_code, game_str in zip(game_codes, games):\n",
    "        components = game_str.split(\"&\")\n",
    "        values.append((game_code, int(components[0]), components[1], components[2], components[3], components[4]))\n",
    "    \n",
    "    add_game_query = (\"INSERT INTO games \"\n",
    "                       \"(game_code, board_size, board_objects, research, conference, starting_information) \"\n",
    "                       \"VALUES (%s, %s, %s, %s, %s, %s);\")\n",
    "        \n",
    "    cxn = get_connection()\n",
    "    cursor = cxn.cursor()\n",
    "    \n",
    "    cursor.executemany(add_game_query, values)\n",
    "    cxn.commit()\n",
    "    \n",
    "    cursor.close()\n",
    "    cxn.close("
   ]
  },
  {
   "cell_type": "code",
   "execution_count": null,
   "id": "dated-charger",
   "metadata": {},
   "outputs": [],
   "source": [
    "def pick_game():\n",
    "    cxn = get_connection()\n",
    "    cursor = cxn.cursor()\n",
    "    \n",
    "    random_game_query = (\"SELECT * from games \"\n",
    "                        \"ORDER BY RAND() \"\n",
    "                        \"LIMIT 1;\")\n",
    "    \n",
    "    cursor.execute(random_game_query)\n",
    "    \n",
    "    game_code, board_size, board_objects, research, conference, starting_information = cursor[0]\n",
    "    game = Game(Board.parse(board_objects), Research.parse(research), \n",
    "                Conference.parse(conference), StartingInformation.parse(starting_information))\n",
    "    \n",
    "    cursor.close()\n",
    "    cxn.close()\n",
    " \n",
    "    return game_code, game"
   ]
  }
 ],
 "metadata": {
  "kernelspec": {
   "display_name": "Python 3",
   "language": "python",
   "name": "python3"
  },
  "language_info": {
   "codemirror_mode": {
    "name": "ipython",
    "version": 3
   },
   "file_extension": ".py",
   "mimetype": "text/x-python",
   "name": "python",
   "nbconvert_exporter": "python",
   "pygments_lexer": "ipython3",
   "version": "3.7.4"
  }
 },
 "nbformat": 4,
 "nbformat_minor": 5
}
