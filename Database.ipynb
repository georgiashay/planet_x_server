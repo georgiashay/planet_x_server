{
 "cells": [
  {
   "cell_type": "code",
   "execution_count": 1,
   "id": "interested-canvas",
   "metadata": {},
   "outputs": [],
   "source": [
    "import mysql.connector\n",
    "import json"
   ]
  },
  {
   "cell_type": "code",
   "execution_count": 2,
   "id": "exciting-reserve",
   "metadata": {},
   "outputs": [],
   "source": [
    "from board import *\n",
    "from board_type import * \n",
    "from game import *"
   ]
  },
  {
   "cell_type": "code",
   "execution_count": 3,
   "id": "severe-reliance",
   "metadata": {},
   "outputs": [],
   "source": [
    "with open(\"creds.json\", \"r\") as f:\n",
    "    creds = json.load(f)"
   ]
  },
  {
   "cell_type": "code",
   "execution_count": 4,
   "id": "civilian-monday",
   "metadata": {},
   "outputs": [],
   "source": [
    "def get_connection():\n",
    "    cxn = mysql.connector.connect(user=creds[\"username\"], password=creds[\"password\"],\n",
    "                                 host=creds[\"hostname\"], database=creds[\"database\"])\n",
    "    return cxn"
   ]
  },
  {
   "cell_type": "code",
   "execution_count": 5,
   "id": "aging-fusion",
   "metadata": {},
   "outputs": [],
   "source": [
    "def add_game(game, game_code):\n",
    "    board_size = len(game.board)\n",
    "    board_objects = str(game.board)\n",
    "    research = game.research.code()\n",
    "    conference = game.conference.code()\n",
    "    starting_information = game.starting_info.code()\n",
    "    \n",
    "    cxn = get_connection()\n",
    "    cursor = cxn.cursor()\n",
    "    \n",
    "    add_game_query = (\"INSERT INTO games \"\n",
    "                       \"(game_code, board_size, board_objects, research, conference, starting_information) \"\n",
    "                       \"VALUES (%s, %s, %s, %s, %s, %s);\")\n",
    "    game_data = (game_code, board_size, board_objects, research, conference, starting_information)\n",
    "    \n",
    "    cursor.execute(add_game_query, game_data)\n",
    "    cxn.commit()\n",
    "    \n",
    "    cursor.close()\n",
    "    cxn.close()"
   ]
  },
  {
   "cell_type": "code",
   "execution_count": 6,
   "id": "employed-louis",
   "metadata": {},
   "outputs": [],
   "source": [
    "def add_games(games, game_codes):\n",
    "    values = []\n",
    "    \n",
    "    for game_code, game in zip(game_codes, games):\n",
    "        board_size = len(game.board)\n",
    "        board_objects = str(game.board)\n",
    "        research = game.research.code()\n",
    "        conference = game.conference.code()\n",
    "        starting_information = game.starting_info.code()\n",
    "        \n",
    "        values.append((game_code, board_size, board_objects, research, conference, starting_information))\n",
    "    \n",
    "    add_game_query = (\"INSERT INTO games \"\n",
    "                       \"(game_code, board_size, board_objects, research, conference, starting_information) \"\n",
    "                       \"VALUES (%s, %s, %s, %s, %s, %s);\")\n",
    "        \n",
    "    cxn = get_connection()\n",
    "    cursor = cxn.cursor()\n",
    "    \n",
    "    cursor.executemany(add_game_query, values)\n",
    "    cxn.commit()\n",
    "    \n",
    "    cursor.close()\n",
    "    cxn.close()\n",
    " "
   ]
  },
  {
   "cell_type": "code",
   "execution_count": 7,
   "id": "renewable-treasurer",
   "metadata": {},
   "outputs": [],
   "source": [
    "def add_games_by_str(games, game_codes):\n",
    "    values = []\n",
    "    \n",
    "    for game_code, game_str in zip(game_codes, games):\n",
    "        components = game_str.split(\"&\")\n",
    "        values.append((game_code, int(components[0]), components[1], components[2], components[3], components[4]))\n",
    "    \n",
    "    add_game_query = (\"INSERT INTO games \"\n",
    "                       \"(game_code, board_size, board_objects, research, conference, starting_information) \"\n",
    "                       \"VALUES (%s, %s, %s, %s, %s, %s);\")\n",
    "        \n",
    "    cxn = get_connection()\n",
    "    cursor = cxn.cursor()\n",
    "    \n",
    "    cursor.executemany(add_game_query, values)\n",
    "    cxn.commit()\n",
    "    \n",
    "    cursor.close()\n",
    "    cxn.close()"
   ]
  },
  {
   "cell_type": "code",
   "execution_count": 8,
   "id": "removed-fitness",
   "metadata": {},
   "outputs": [],
   "source": [
    "def pick_game():\n",
    "    cxn = get_connection()\n",
    "    cursor = cxn.cursor()\n",
    "    \n",
    "        \n",
    "    random_game_query = (\"SELECT * \"\n",
    "                          \"FROM games JOIN \"\n",
    "                              \"(SELECT CEIL(RAND() * \"\n",
    "                                  \"(SELECT MAX(id) \"\n",
    "                                      \"FROM games)) AS id\"\n",
    "                                  \") AS r2 \"\n",
    "                                  \"USING (id);\")\n",
    "    \n",
    "    cursor.execute(random_game_query)    \n",
    "    \n",
    "    gid, game_code, board_size, board_objects, research, conference, starting_information = cursor.fetchone()\n",
    "    game = Game(Board.parse(board_objects), Research.parse(research), \n",
    "                Conference.parse(conference), StartingInformation.parse(starting_information))\n",
    "    \n",
    "    cursor.close()\n",
    "    cxn.close()\n",
    " \n",
    "    return game_code, game"
   ]
  },
  {
   "cell_type": "code",
   "execution_count": 12,
   "id": "clean-basic",
   "metadata": {},
   "outputs": [
    {
     "data": {
      "text/plain": [
       "('A5Z2A4', <game.Game at 0x7f94108e9d10>)"
      ]
     },
     "execution_count": 12,
     "metadata": {},
     "output_type": "execute_result"
    }
   ],
   "source": [
    "pick_game()"
   ]
  },
  {
   "cell_type": "code",
   "execution_count": null,
   "id": "three-printer",
   "metadata": {},
   "outputs": [],
   "source": [
    "def get_game(game_code):\n",
    "    cxn = get_connection()\n",
    "    cursor = cxn.cursor()\n",
    "    \n",
    "    game_query = (\"SELECT * from games \" \n",
    "                 \"WHERE game_code = %s\")\n",
    "    \n",
    "    cursor.execute(game_query, (game_code))\n",
    "    \n",
    "    game_code, board_size, board_objects, research, conference, starting_information = cursor[0]\n",
    "    game = Game(Board.parse(board_objects), Research.parse(research), \n",
    "                Conference.parse(conference), StartingInformation.parse(starting_information))\n",
    "    \n",
    "    cursor.close()\n",
    "    cxn.close()\n",
    " \n",
    "    return game"
   ]
  },
  {
   "cell_type": "code",
   "execution_count": null,
   "id": "toxic-junction",
   "metadata": {},
   "outputs": [],
   "source": []
  }
 ],
 "metadata": {
  "kernelspec": {
   "display_name": "Python 3",
   "language": "python",
   "name": "python3"
  },
  "language_info": {
   "codemirror_mode": {
    "name": "ipython",
    "version": 3
   },
   "file_extension": ".py",
   "mimetype": "text/x-python",
   "name": "python",
   "nbconvert_exporter": "python",
   "pygments_lexer": "ipython3",
   "version": "3.8.8"
  }
 },
 "nbformat": 4,
 "nbformat_minor": 5
}
