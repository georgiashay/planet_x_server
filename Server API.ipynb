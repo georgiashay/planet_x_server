{
 "cells": [
  {
   "cell_type": "code",
   "execution_count": 1,
   "id": "surprising-classics",
   "metadata": {},
   "outputs": [],
   "source": [
    "import http.server, ssl\n",
    "import re"
   ]
  },
  {
   "cell_type": "code",
   "execution_count": 2,
   "id": "seeing-kuwait",
   "metadata": {},
   "outputs": [],
   "source": [
    "from board import *\n",
    "from board_type import *\n",
    "from game import *\n",
    "import db_ops"
   ]
  },
  {
   "cell_type": "code",
   "execution_count": 3,
   "id": "heated-county",
   "metadata": {},
   "outputs": [],
   "source": [
    "def retrieve_game(game_code):\n",
    "    game = db_ops.get_game(game_code)\n",
    "    return {\n",
    "        \"game_code\": game_code,\n",
    "        \"game\": game.to_json()\n",
    "    }"
   ]
  },
  {
   "cell_type": "code",
   "execution_count": 4,
   "id": "cognitive-prairie",
   "metadata": {},
   "outputs": [],
   "source": [
    "def create_game():\n",
    "    game_code, game = db_ops.pick_game()\n",
    "    return {\n",
    "        \"game_code\": game_code,\n",
    "        \"game\": game.to_json()\n",
    "    }"
   ]
  },
  {
   "cell_type": "code",
   "execution_count": 5,
   "id": "criminal-growth",
   "metadata": {},
   "outputs": [],
   "source": [
    "class PlanetXHttpRequestHandler(http.server.SimpleHTTPRequestHandler):\n",
    "    def do_GET(self):\n",
    "        if self.path == '/creategame':\n",
    "            self.send_response(200)\n",
    "            self.send_header('Content-type','application/json')\n",
    "            self.end_headers()\n",
    "            self.wfile.write(json.dumps(create_game()).encode(\"utf8\")) \n",
    "        elif None != re.search('/joingame/*', self.path):\n",
    "            game_code = self.path.split('/')[-1]\n",
    "            self.send_response(200)\n",
    "            self.send_header('Content-type','application/json')\n",
    "            self.end_headers()\n",
    "            self.wfile.write(json.dumps(retrieve_game(game_code)).encde()) "
   ]
  },
  {
   "cell_type": "code",
   "execution_count": 6,
   "id": "automotive-jewel",
   "metadata": {},
   "outputs": [],
   "source": [
    "server_address = ('localhost', 4443)\n",
    "httpd = http.server.HTTPServer(server_address, PlanetXHttpRequestHandler)\n",
    "httpd.socket = ssl.wrap_socket(httpd.socket,\n",
    "                               server_side=True,\n",
    "                               certfile='server.crt',\n",
    "                               keyfile='server.key',\n",
    "                               ssl_version=ssl.PROTOCOL_TLS)\n"
   ]
  },
  {
   "cell_type": "code",
   "execution_count": 7,
   "id": "agricultural-vienna",
   "metadata": {},
   "outputs": [
    {
     "name": "stderr",
     "output_type": "stream",
     "text": [
      "127.0.0.1 - - [13/Apr/2021 03:42:42] \"GET /creategame HTTP/1.1\" 200 -\n",
      "----------------------------------------\n",
      "Exception happened during processing of request from ('127.0.0.1', 55812)\n",
      "Traceback (most recent call last):\n",
      "  File \"/Users/georgiashay/opt/anaconda3/lib/python3.7/socketserver.py\", line 316, in _handle_request_noblock\n",
      "    self.process_request(request, client_address)\n",
      "  File \"/Users/georgiashay/opt/anaconda3/lib/python3.7/socketserver.py\", line 347, in process_request\n",
      "    self.finish_request(request, client_address)\n",
      "  File \"/Users/georgiashay/opt/anaconda3/lib/python3.7/socketserver.py\", line 360, in finish_request\n",
      "    self.RequestHandlerClass(request, client_address, self)\n",
      "  File \"/Users/georgiashay/opt/anaconda3/lib/python3.7/http/server.py\", line 646, in __init__\n",
      "    super().__init__(*args, **kwargs)\n",
      "  File \"/Users/georgiashay/opt/anaconda3/lib/python3.7/socketserver.py\", line 720, in __init__\n",
      "    self.handle()\n",
      "  File \"/Users/georgiashay/opt/anaconda3/lib/python3.7/http/server.py\", line 426, in handle\n",
      "    self.handle_one_request()\n",
      "  File \"/Users/georgiashay/opt/anaconda3/lib/python3.7/http/server.py\", line 414, in handle_one_request\n",
      "    method()\n",
      "  File \"<ipython-input-5-d0c02fc470ac>\", line 7, in do_GET\n",
      "    self.wfile.write(json.dumps(create_game()))\n",
      "  File \"/Users/georgiashay/opt/anaconda3/lib/python3.7/socketserver.py\", line 799, in write\n",
      "    self._sock.sendall(b)\n",
      "  File \"/Users/georgiashay/opt/anaconda3/lib/python3.7/ssl.py\", line 1031, in sendall\n",
      "    with memoryview(data) as view, view.cast(\"B\") as byte_view:\n",
      "TypeError: memoryview: a bytes-like object is required, not 'str'\n",
      "----------------------------------------\n"
     ]
    },
    {
     "ename": "KeyboardInterrupt",
     "evalue": "",
     "output_type": "error",
     "traceback": [
      "\u001b[0;31m---------------------------------------------------------------------------\u001b[0m",
      "\u001b[0;31mKeyboardInterrupt\u001b[0m                         Traceback (most recent call last)",
      "\u001b[0;32m<ipython-input-7-31782cdc9b55>\u001b[0m in \u001b[0;36m<module>\u001b[0;34m\u001b[0m\n\u001b[0;32m----> 1\u001b[0;31m \u001b[0mhttpd\u001b[0m\u001b[0;34m.\u001b[0m\u001b[0mserve_forever\u001b[0m\u001b[0;34m(\u001b[0m\u001b[0;34m)\u001b[0m\u001b[0;34m\u001b[0m\u001b[0;34m\u001b[0m\u001b[0m\n\u001b[0m",
      "\u001b[0;32m~/opt/anaconda3/lib/python3.7/socketserver.py\u001b[0m in \u001b[0;36mserve_forever\u001b[0;34m(self, poll_interval)\u001b[0m\n\u001b[1;32m    230\u001b[0m \u001b[0;34m\u001b[0m\u001b[0m\n\u001b[1;32m    231\u001b[0m                 \u001b[0;32mwhile\u001b[0m \u001b[0;32mnot\u001b[0m \u001b[0mself\u001b[0m\u001b[0;34m.\u001b[0m\u001b[0m__shutdown_request\u001b[0m\u001b[0;34m:\u001b[0m\u001b[0;34m\u001b[0m\u001b[0;34m\u001b[0m\u001b[0m\n\u001b[0;32m--> 232\u001b[0;31m                     \u001b[0mready\u001b[0m \u001b[0;34m=\u001b[0m \u001b[0mselector\u001b[0m\u001b[0;34m.\u001b[0m\u001b[0mselect\u001b[0m\u001b[0;34m(\u001b[0m\u001b[0mpoll_interval\u001b[0m\u001b[0;34m)\u001b[0m\u001b[0;34m\u001b[0m\u001b[0;34m\u001b[0m\u001b[0m\n\u001b[0m\u001b[1;32m    233\u001b[0m                     \u001b[0;31m# bpo-35017: shutdown() called during select(), exit immediately.\u001b[0m\u001b[0;34m\u001b[0m\u001b[0;34m\u001b[0m\u001b[0;34m\u001b[0m\u001b[0m\n\u001b[1;32m    234\u001b[0m                     \u001b[0;32mif\u001b[0m \u001b[0mself\u001b[0m\u001b[0;34m.\u001b[0m\u001b[0m__shutdown_request\u001b[0m\u001b[0;34m:\u001b[0m\u001b[0;34m\u001b[0m\u001b[0;34m\u001b[0m\u001b[0m\n",
      "\u001b[0;32m~/opt/anaconda3/lib/python3.7/selectors.py\u001b[0m in \u001b[0;36mselect\u001b[0;34m(self, timeout)\u001b[0m\n\u001b[1;32m    413\u001b[0m         \u001b[0mready\u001b[0m \u001b[0;34m=\u001b[0m \u001b[0;34m[\u001b[0m\u001b[0;34m]\u001b[0m\u001b[0;34m\u001b[0m\u001b[0;34m\u001b[0m\u001b[0m\n\u001b[1;32m    414\u001b[0m         \u001b[0;32mtry\u001b[0m\u001b[0;34m:\u001b[0m\u001b[0;34m\u001b[0m\u001b[0;34m\u001b[0m\u001b[0m\n\u001b[0;32m--> 415\u001b[0;31m             \u001b[0mfd_event_list\u001b[0m \u001b[0;34m=\u001b[0m \u001b[0mself\u001b[0m\u001b[0;34m.\u001b[0m\u001b[0m_selector\u001b[0m\u001b[0;34m.\u001b[0m\u001b[0mpoll\u001b[0m\u001b[0;34m(\u001b[0m\u001b[0mtimeout\u001b[0m\u001b[0;34m)\u001b[0m\u001b[0;34m\u001b[0m\u001b[0;34m\u001b[0m\u001b[0m\n\u001b[0m\u001b[1;32m    416\u001b[0m         \u001b[0;32mexcept\u001b[0m \u001b[0mInterruptedError\u001b[0m\u001b[0;34m:\u001b[0m\u001b[0;34m\u001b[0m\u001b[0;34m\u001b[0m\u001b[0m\n\u001b[1;32m    417\u001b[0m             \u001b[0;32mreturn\u001b[0m \u001b[0mready\u001b[0m\u001b[0;34m\u001b[0m\u001b[0;34m\u001b[0m\u001b[0m\n",
      "\u001b[0;31mKeyboardInterrupt\u001b[0m: "
     ]
    }
   ],
   "source": [
    "httpd.serve_forever()"
   ]
  }
 ],
 "metadata": {
  "kernelspec": {
   "display_name": "Python 3",
   "language": "python",
   "name": "python3"
  },
  "language_info": {
   "codemirror_mode": {
    "name": "ipython",
    "version": 3
   },
   "file_extension": ".py",
   "mimetype": "text/x-python",
   "name": "python",
   "nbconvert_exporter": "python",
   "pygments_lexer": "ipython3",
   "version": "3.7.4"
  }
 },
 "nbformat": 4,
 "nbformat_minor": 5
}
