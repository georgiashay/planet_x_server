{
 "cells": [
  {
   "cell_type": "code",
   "execution_count": null,
   "id": "weighted-deviation",
   "metadata": {},
   "outputs": [],
   "source": [
    "import http.server, ssl\n",
    "import re"
   ]
  },
  {
   "cell_type": "code",
   "execution_count": null,
   "id": "seeing-kuwait",
   "metadata": {},
   "outputs": [],
   "source": [
    "from board import *\n",
    "from board_type import *\n",
    "from game import *\n",
    "import db_ops"
   ]
  },
  {
   "cell_type": "code",
   "execution_count": null,
   "id": "heated-county",
   "metadata": {},
   "outputs": [],
   "source": [
    "def retrieve_game(game_code):\n",
    "    game = db_ops.get_game(game_code)\n",
    "    return {\n",
    "        \"game_code\": game_code,\n",
    "        \"game\": game.to_json()\n",
    "    }"
   ]
  },
  {
   "cell_type": "code",
   "execution_count": null,
   "id": "cognitive-prairie",
   "metadata": {},
   "outputs": [],
   "source": [
    "def create_game():\n",
    "    game_code, game = db_ops.pick_game()\n",
    "    return {\n",
    "        \"game_code\": game_code,\n",
    "        \"game\": game.to_json()\n",
    "    }"
   ]
  },
  {
   "cell_type": "code",
   "execution_count": null,
   "id": "surprising-herald",
   "metadata": {},
   "outputs": [],
   "source": [
    "class PlanetXHttpRequestHandler(http.server.SimpleHTTPRequestHandler):\n",
    "    def do_GET(self):\n",
    "        if self.path == '/creategame':\n",
    "            self.send_response(200)\n",
    "            self.send_header('Content-type','application/json')\n",
    "            self.end_headers()\n",
    "            self.wfile.write(json.dumps(create_game()).encode(\"utf8\")) \n",
    "        elif None != re.search('/joingame/*', self.path):\n",
    "            game_code = self.path.split('/')[-1]\n",
    "            self.send_response(200)\n",
    "            self.send_header('Content-type','application/json')\n",
    "            self.end_headers()\n",
    "            self.wfile.write(json.dumps(retrieve_game(game_code)).encode(\"utf8\")) "
   ]
  },
  {
   "cell_type": "code",
   "execution_count": null,
   "id": "median-wallpaper",
   "metadata": {},
   "outputs": [],
   "source": [
    "server_address = ('localhost', 4443)\n",
    "httpd = http.server.HTTPServer(server_address, PlanetXHttpRequestHandler)\n",
    "# httpd.socket = ssl.wrap_socket(httpd.socket,\n",
    "#                                server_side=True,\n",
    "#                                certfile='server.crt',\n",
    "#                                keyfile='server.key',\n",
    "#                                ssl_version=ssl.PROTOCOL_TLS)\n"
   ]
  },
  {
   "cell_type": "code",
   "execution_count": null,
   "id": "transsexual-scholarship",
   "metadata": {},
   "outputs": [],
   "source": [
    "httpd.serve_forever()"
   ]
  },
  {
   "cell_type": "code",
   "execution_count": null,
   "id": "coated-company",
   "metadata": {},
   "outputs": [],
   "source": []
  }
 ],
 "metadata": {
  "kernelspec": {
   "display_name": "Python 3",
   "language": "python",
   "name": "python3"
  },
  "language_info": {
   "codemirror_mode": {
    "name": "ipython",
    "version": 3
   },
   "file_extension": ".py",
   "mimetype": "text/x-python",
   "name": "python",
   "nbconvert_exporter": "python",
   "pygments_lexer": "ipython3",
   "version": "3.7.4"
  }
 },
 "nbformat": 4,
 "nbformat_minor": 5
}
